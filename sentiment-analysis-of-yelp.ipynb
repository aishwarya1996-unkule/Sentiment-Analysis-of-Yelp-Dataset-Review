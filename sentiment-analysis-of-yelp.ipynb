{
 "cells": [
  {
   "cell_type": "code",
   "execution_count": 2,
   "metadata": {
    "_cell_guid": "3f90ea6c-2d5e-47be-b3f4-5f2e4d67d4a0",
    "_uuid": "04689277-be3c-4829-ab55-76ba1f5b3662",
    "execution": {
     "iopub.execute_input": "2020-11-02T11:12:11.060458Z",
     "iopub.status.busy": "2020-11-02T11:12:11.059749Z",
     "iopub.status.idle": "2020-11-02T11:12:14.831540Z",
     "shell.execute_reply": "2020-11-02T11:12:14.830651Z"
    },
    "papermill": {
     "duration": 3.820118,
     "end_time": "2020-11-02T11:12:14.831726",
     "exception": false,
     "start_time": "2020-11-02T11:12:11.011608",
     "status": "completed"
    },
    "tags": []
   },
   "outputs": [
    {
     "ename": "SyntaxError",
     "evalue": "invalid syntax (<ipython-input-2-252a77050ae1>, line 12)",
     "output_type": "error",
     "traceback": [
      "\u001b[1;36m  File \u001b[1;32m\"<ipython-input-2-252a77050ae1>\"\u001b[1;36m, line \u001b[1;32m12\u001b[0m\n\u001b[1;33m    from YelpNew import utils_yelp.py\u001b[0m\n\u001b[1;37m                                  ^\u001b[0m\n\u001b[1;31mSyntaxError\u001b[0m\u001b[1;31m:\u001b[0m invalid syntax\n"
     ]
    }
   ],
   "source": [
    "# This Python 3 environment comes with many helpful analytics libraries installed\n",
    "# It is defined by the kaggle/python Docker image: https://github.com/kaggle/docker-python\n",
    "# For example, here's several helpful packages to load\n",
    "\n",
    "import numpy as np # linear algebra\n",
    "import pandas as pd # data processing, CSV file I/O (e.g. pd.read_csv)\n",
    "import matplotlib.pyplot as plt \n",
    "import seaborn as sns\n",
    "import multiprocessing\n",
    "import gc\n",
    "# my imports\n",
    "from YelpNew import utils_yelp.py \n",
    "import sklearn.model_selection as model_selection\n",
    "from tqdm.notebook import tqdm_notebook\n",
    "tqdm_notebook.pandas()\n",
    "from nltk.corpus import stopwords\n",
    "from sklearn.feature_extraction.text import CountVectorizer\n",
    "from sklearn.feature_extraction.text import TfidfVectorizer\n",
    "from sklearn.linear_model import LogisticRegression\n",
    "from sklearn.metrics import accuracy_score,mean_squared_error,plot_confusion_matrix\n",
    "from sklearn.pipeline import Pipeline\n",
    "from sklearn.model_selection import GridSearchCV\n",
    "from xgboost import XGBClassifier\n",
    "from sklearn.ensemble import RandomForestClassifier\n",
    "\n",
    "# Input data files are available in the read-only \"../input/\" directory\n",
    "# For example, running this (by clicking run or pressing Shift+Enter) will list all files under the input directory\n",
    "\n",
    "import os\n",
    "for dirname, _, filenames in os.walk('E:\\\\DBDA\\\\Project\\\\yelp_academic_dataset_review'):\n",
    "    for filename in filenames:\n",
    "        print(os.path.join(dirname, filename))\n",
    "\n",
    "# You can write up to 5GB to the current directory (/kaggle/working/) that gets preserved as output when you create a version using \"Save & Run All\" \n",
    "# You can also write temporary files to /kaggle/temp/, but they won't be saved outside of the current session"
   ]
  },
  {
   "cell_type": "markdown",
   "metadata": {
    "papermill": {
     "duration": 0.057078,
     "end_time": "2020-11-02T11:12:14.947286",
     "exception": false,
     "start_time": "2020-11-02T11:12:14.890208",
     "status": "completed"
    },
    "tags": []
   },
   "source": [
    "# Yelp analysis\n",
    "## Introduction\n",
    "Yelp is company which is porviding the rating of hte restaurants. It is internet based rating forum, where people can write and rate restaurants aroud the globe. \n",
    "### Data\n",
    "We will use reviews for sentiment analysis. This is classification problem. The load data are to big to be loaded at one, therefore we read line by line. Secondly, the each row is JSON but file is not JSON itself.\n",
    "### Analysis\n",
    "Since many of the Kaggle kernells trying fit model to some subset of data around 1 millinon. Therefore Kernell run quite long time. I will try Logistic regression, XGBoost, RandomForest to perform classification.\n",
    "### Note\n",
    "Helepr function can be found in utils_yelp.py, and test_utils_yelp.py for basic parametric test."
   ]
  },
  {
   "cell_type": "markdown",
   "metadata": {
    "_cell_guid": "69c7fa97-b4b5-471d-9e8e-d91150a7dadd",
    "_uuid": "a04fcb27-c666-4000-86b6-b55de95e31ad",
    "papermill": {
     "duration": 0.058521,
     "end_time": "2020-11-02T11:12:15.063638",
     "exception": false,
     "start_time": "2020-11-02T11:12:15.005117",
     "status": "completed"
    },
    "tags": []
   },
   "source": [
    "# 1. Load data\n"
   ]
  },
  {
   "cell_type": "code",
   "execution_count": 3,
   "metadata": {
    "execution": {
     "iopub.execute_input": "2020-11-02T11:12:15.188063Z",
     "iopub.status.busy": "2020-11-02T11:12:15.187099Z",
     "iopub.status.idle": "2020-11-02T11:12:15.192364Z",
     "shell.execute_reply": "2020-11-02T11:12:15.191725Z"
    },
    "papermill": {
     "duration": 0.069512,
     "end_time": "2020-11-02T11:12:15.192472",
     "exception": false,
     "start_time": "2020-11-02T11:12:15.122960",
     "status": "completed"
    },
    "tags": []
   },
   "outputs": [
    {
     "ename": "NameError",
     "evalue": "name 'utils_yelp' is not defined",
     "output_type": "error",
     "traceback": [
      "\u001b[1;31m---------------------------------------------------------------------------\u001b[0m",
      "\u001b[1;31mNameError\u001b[0m                                 Traceback (most recent call last)",
      "\u001b[1;32m<ipython-input-3-84b32a325b51>\u001b[0m in \u001b[0;36m<module>\u001b[1;34m\u001b[0m\n\u001b[1;32m----> 1\u001b[1;33m \u001b[0mhelp\u001b[0m\u001b[1;33m(\u001b[0m\u001b[0mutils_yelp\u001b[0m\u001b[1;33m.\u001b[0m\u001b[0mloadJSON\u001b[0m\u001b[1;33m)\u001b[0m\u001b[1;33m\u001b[0m\u001b[1;33m\u001b[0m\u001b[0m\n\u001b[0m",
      "\u001b[1;31mNameError\u001b[0m: name 'utils_yelp' is not defined"
     ]
    }
   ],
   "source": [
    "help(utils_yelp.loadJSON)"
   ]
  },
  {
   "cell_type": "code",
   "execution_count": 3,
   "metadata": {
    "_cell_guid": "022d6490-7bcb-48e7-944a-75150de7db92",
    "_uuid": "67e60aa0-19d3-4db1-84d7-fa6ff9da2a79",
    "execution": {
     "iopub.execute_input": "2020-11-02T11:12:15.276056Z",
     "iopub.status.busy": "2020-11-02T11:12:15.275381Z",
     "iopub.status.idle": "2020-11-02T11:12:31.560087Z",
     "shell.execute_reply": "2020-11-02T11:12:31.559222Z"
    },
    "papermill": {
     "duration": 16.328837,
     "end_time": "2020-11-02T11:12:31.560225",
     "exception": false,
     "start_time": "2020-11-02T11:12:15.231388",
     "status": "completed"
    },
    "tags": []
   },
   "outputs": [
    {
     "data": {
      "text/html": [
       "<div>\n",
       "<style scoped>\n",
       "    .dataframe tbody tr th:only-of-type {\n",
       "        vertical-align: middle;\n",
       "    }\n",
       "\n",
       "    .dataframe tbody tr th {\n",
       "        vertical-align: top;\n",
       "    }\n",
       "\n",
       "    .dataframe thead th {\n",
       "        text-align: right;\n",
       "    }\n",
       "</style>\n",
       "<table border=\"1\" class=\"dataframe\">\n",
       "  <thead>\n",
       "    <tr style=\"text-align: right;\">\n",
       "      <th></th>\n",
       "      <th>stars</th>\n",
       "      <th>text</th>\n",
       "    </tr>\n",
       "  </thead>\n",
       "  <tbody>\n",
       "    <tr>\n",
       "      <th>0</th>\n",
       "      <td>2.0</td>\n",
       "      <td>As someone who has worked with many museums, I...</td>\n",
       "    </tr>\n",
       "    <tr>\n",
       "      <th>1</th>\n",
       "      <td>1.0</td>\n",
       "      <td>I am actually horrified this place is still in...</td>\n",
       "    </tr>\n",
       "    <tr>\n",
       "      <th>2</th>\n",
       "      <td>5.0</td>\n",
       "      <td>I love Deagan's. I do. I really do. The atmosp...</td>\n",
       "    </tr>\n",
       "    <tr>\n",
       "      <th>3</th>\n",
       "      <td>1.0</td>\n",
       "      <td>Dismal, lukewarm, defrosted-tasting \"TexMex\" g...</td>\n",
       "    </tr>\n",
       "    <tr>\n",
       "      <th>4</th>\n",
       "      <td>4.0</td>\n",
       "      <td>Oh happy day, finally have a Canes near my cas...</td>\n",
       "    </tr>\n",
       "  </tbody>\n",
       "</table>\n",
       "</div>"
      ],
      "text/plain": [
       "   stars                                               text\n",
       "0    2.0  As someone who has worked with many museums, I...\n",
       "1    1.0  I am actually horrified this place is still in...\n",
       "2    5.0  I love Deagan's. I do. I really do. The atmosp...\n",
       "3    1.0  Dismal, lukewarm, defrosted-tasting \"TexMex\" g...\n",
       "4    4.0  Oh happy day, finally have a Canes near my cas..."
      ]
     },
     "execution_count": 3,
     "metadata": {},
     "output_type": "execute_result"
    }
   ],
   "source": [
    "data = pd.DataFrame(utils_yelp.loadJSON('/kaggle/input/yelp-dataset/yelp_academic_dataset_review.json',{'stars': [], 'text':[]},size=1000000))\n",
    "\n",
    "# helping the RAM\n",
    "gc.collect()\n",
    "data.head(5)"
   ]
  },
  {
   "cell_type": "markdown",
   "metadata": {
    "_cell_guid": "faed121f-1831-4164-a0c5-96431508400c",
    "_uuid": "7eaf364d-e790-44db-92eb-e8bc9f211b0c",
    "papermill": {
     "duration": 0.06002,
     "end_time": "2020-11-02T11:12:31.681328",
     "exception": false,
     "start_time": "2020-11-02T11:12:31.621308",
     "status": "completed"
    },
    "tags": []
   },
   "source": [
    "# 2.EDA"
   ]
  },
  {
   "cell_type": "markdown",
   "metadata": {
    "papermill": {
     "duration": 0.059786,
     "end_time": "2020-11-02T11:12:31.800420",
     "exception": false,
     "start_time": "2020-11-02T11:12:31.740634",
     "status": "completed"
    },
    "tags": []
   },
   "source": [
    "The basic EDA is performed to find if there are extreme values and missing data."
   ]
  },
  {
   "cell_type": "markdown",
   "metadata": {
    "_cell_guid": "a2e2c68d-2072-426e-928c-58684deda555",
    "_uuid": "8244aa99-5038-4562-a965-bba7da14936c",
    "papermill": {
     "duration": 0.059393,
     "end_time": "2020-11-02T11:12:31.919622",
     "exception": false,
     "start_time": "2020-11-02T11:12:31.860229",
     "status": "completed"
    },
    "tags": []
   },
   "source": [
    "## 2.1 Missing value"
   ]
  },
  {
   "cell_type": "code",
   "execution_count": 4,
   "metadata": {
    "_cell_guid": "98234228-8ec2-47fc-a012-eb07fe174c7d",
    "_uuid": "376c5cee-a01d-4de3-9d2a-c1e726abc10c",
    "execution": {
     "iopub.execute_input": "2020-11-02T11:12:32.047712Z",
     "iopub.status.busy": "2020-11-02T11:12:32.047008Z",
     "iopub.status.idle": "2020-11-02T11:12:34.776726Z",
     "shell.execute_reply": "2020-11-02T11:12:34.776118Z"
    },
    "papermill": {
     "duration": 2.795729,
     "end_time": "2020-11-02T11:12:34.776846",
     "exception": false,
     "start_time": "2020-11-02T11:12:31.981117",
     "status": "completed"
    },
    "tags": []
   },
   "outputs": [
    {
     "data": {
      "text/plain": [
       "(1000000, 2)"
      ]
     },
     "metadata": {},
     "output_type": "display_data"
    },
    {
     "data": {
      "text/plain": [
       "stars    0\n",
       "text     0\n",
       "dtype: int64"
      ]
     },
     "metadata": {},
     "output_type": "display_data"
    },
    {
     "data": {
      "text/html": [
       "<div>\n",
       "<style scoped>\n",
       "    .dataframe tbody tr th:only-of-type {\n",
       "        vertical-align: middle;\n",
       "    }\n",
       "\n",
       "    .dataframe tbody tr th {\n",
       "        vertical-align: top;\n",
       "    }\n",
       "\n",
       "    .dataframe thead th {\n",
       "        text-align: right;\n",
       "    }\n",
       "</style>\n",
       "<table border=\"1\" class=\"dataframe\">\n",
       "  <thead>\n",
       "    <tr style=\"text-align: right;\">\n",
       "      <th></th>\n",
       "      <th>stars</th>\n",
       "    </tr>\n",
       "  </thead>\n",
       "  <tbody>\n",
       "    <tr>\n",
       "      <th>count</th>\n",
       "      <td>1000000.000000</td>\n",
       "    </tr>\n",
       "    <tr>\n",
       "      <th>mean</th>\n",
       "      <td>3.716282</td>\n",
       "    </tr>\n",
       "    <tr>\n",
       "      <th>std</th>\n",
       "      <td>1.483008</td>\n",
       "    </tr>\n",
       "    <tr>\n",
       "      <th>min</th>\n",
       "      <td>1.000000</td>\n",
       "    </tr>\n",
       "    <tr>\n",
       "      <th>25%</th>\n",
       "      <td>3.000000</td>\n",
       "    </tr>\n",
       "    <tr>\n",
       "      <th>50%</th>\n",
       "      <td>4.000000</td>\n",
       "    </tr>\n",
       "    <tr>\n",
       "      <th>75%</th>\n",
       "      <td>5.000000</td>\n",
       "    </tr>\n",
       "    <tr>\n",
       "      <th>max</th>\n",
       "      <td>5.000000</td>\n",
       "    </tr>\n",
       "  </tbody>\n",
       "</table>\n",
       "</div>"
      ],
      "text/plain": [
       "                stars\n",
       "count  1000000.000000\n",
       "mean         3.716282\n",
       "std          1.483008\n",
       "min          1.000000\n",
       "25%          3.000000\n",
       "50%          4.000000\n",
       "75%          5.000000\n",
       "max          5.000000"
      ]
     },
     "metadata": {},
     "output_type": "display_data"
    },
    {
     "data": {
      "text/plain": [
       "<matplotlib.axes._subplots.AxesSubplot at 0x7f67eebd1a90>"
      ]
     },
     "execution_count": 4,
     "metadata": {},
     "output_type": "execute_result"
    },
    {
     "data": {
      "image/png": "[encoded data removed]",
      "text/plain": [
       "<Figure size 432x288 with 1 Axes>"
      ]
     },
     "metadata": {
      "needs_background": "light"
     },
     "output_type": "display_data"
    }
   ],
   "source": [
    "display(data.shape)\n",
    "display(data.isnull().sum(axis=0))\n",
    "display(data.describe())\n",
    "sns.heatmap(data.isnull(), cbar=False)\n"
   ]
  },
  {
   "cell_type": "markdown",
   "metadata": {
    "papermill": {
     "duration": 0.041445,
     "end_time": "2020-11-02T11:12:34.861637",
     "exception": false,
     "start_time": "2020-11-02T11:12:34.820192",
     "status": "completed"
    },
    "tags": []
   },
   "source": [
    "As i seen from basic descritptive statistics and heatmat, there are no missing values. No treatment is required."
   ]
  },
  {
   "cell_type": "markdown",
   "metadata": {
    "_cell_guid": "8151892e-667e-4a3f-bf39-26ace9b83846",
    "_uuid": "b8ae6db2-8824-4dc6-88bb-0f32a3e722e2",
    "papermill": {
     "duration": 0.042823,
     "end_time": "2020-11-02T11:12:34.947098",
     "exception": false,
     "start_time": "2020-11-02T11:12:34.904275",
     "status": "completed"
    },
    "tags": []
   },
   "source": [
    "## 2.2 Descriptive statistics"
   ]
  },
  {
   "cell_type": "code",
   "execution_count": 5,
   "metadata": {
    "_cell_guid": "30555c5c-a058-4333-b045-6650a43ac633",
    "_uuid": "2ba1fc6e-6f7c-4355-a741-291e7bdf06bb",
    "execution": {
     "iopub.execute_input": "2020-11-02T11:12:35.046910Z",
     "iopub.status.busy": "2020-11-02T11:12:35.046061Z",
     "iopub.status.idle": "2020-11-02T11:12:35.270114Z",
     "shell.execute_reply": "2020-11-02T11:12:35.269611Z"
    },
    "papermill": {
     "duration": 0.278864,
     "end_time": "2020-11-02T11:12:35.270225",
     "exception": false,
     "start_time": "2020-11-02T11:12:34.991361",
     "status": "completed"
    },
    "tags": []
   },
   "outputs": [
    {
     "data": {
      "text/html": [
       "<div>\n",
       "<style scoped>\n",
       "    .dataframe tbody tr th:only-of-type {\n",
       "        vertical-align: middle;\n",
       "    }\n",
       "\n",
       "    .dataframe tbody tr th {\n",
       "        vertical-align: top;\n",
       "    }\n",
       "\n",
       "    .dataframe thead th {\n",
       "        text-align: right;\n",
       "    }\n",
       "</style>\n",
       "<table border=\"1\" class=\"dataframe\">\n",
       "  <thead>\n",
       "    <tr style=\"text-align: right;\">\n",
       "      <th></th>\n",
       "      <th>stars</th>\n",
       "    </tr>\n",
       "  </thead>\n",
       "  <tbody>\n",
       "    <tr>\n",
       "      <th>count</th>\n",
       "      <td>1000000.000000</td>\n",
       "    </tr>\n",
       "    <tr>\n",
       "      <th>mean</th>\n",
       "      <td>3.716282</td>\n",
       "    </tr>\n",
       "    <tr>\n",
       "      <th>std</th>\n",
       "      <td>1.483008</td>\n",
       "    </tr>\n",
       "    <tr>\n",
       "      <th>min</th>\n",
       "      <td>1.000000</td>\n",
       "    </tr>\n",
       "    <tr>\n",
       "      <th>25%</th>\n",
       "      <td>3.000000</td>\n",
       "    </tr>\n",
       "    <tr>\n",
       "      <th>50%</th>\n",
       "      <td>4.000000</td>\n",
       "    </tr>\n",
       "    <tr>\n",
       "      <th>75%</th>\n",
       "      <td>5.000000</td>\n",
       "    </tr>\n",
       "    <tr>\n",
       "      <th>max</th>\n",
       "      <td>5.000000</td>\n",
       "    </tr>\n",
       "  </tbody>\n",
       "</table>\n",
       "</div>"
      ],
      "text/plain": [
       "                stars\n",
       "count  1000000.000000\n",
       "mean         3.716282\n",
       "std          1.483008\n",
       "min          1.000000\n",
       "25%          3.000000\n",
       "50%          4.000000\n",
       "75%          5.000000\n",
       "max          5.000000"
      ]
     },
     "metadata": {},
     "output_type": "display_data"
    },
    {
     "name": "stdout",
     "output_type": "stream",
     "text": [
      "<class 'pandas.core.frame.DataFrame'>\n",
      "RangeIndex: 1000000 entries, 0 to 999999\n",
      "Data columns (total 2 columns):\n",
      " #   Column  Non-Null Count    Dtype  \n",
      "---  ------  --------------    -----  \n",
      " 0   stars   1000000 non-null  float64\n",
      " 1   text    1000000 non-null  object \n",
      "dtypes: float64(1), object(1)\n",
      "memory usage: 15.3+ MB\n"
     ]
    },
    {
     "data": {
      "text/plain": [
       "None"
      ]
     },
     "metadata": {},
     "output_type": "display_data"
    }
   ],
   "source": [
    "display(data.describe())\n",
    "display(data.info())\n"
   ]
  },
  {
   "cell_type": "markdown",
   "metadata": {
    "papermill": {
     "duration": 0.052568,
     "end_time": "2020-11-02T11:12:35.368533",
     "exception": false,
     "start_time": "2020-11-02T11:12:35.315965",
     "status": "completed"
    },
    "tags": []
   },
   "source": [
    "Basic descriptive statics showing, no outlayers since stars are between values 1 to 5."
   ]
  },
  {
   "cell_type": "markdown",
   "metadata": {
    "papermill": {
     "duration": 0.048872,
     "end_time": "2020-11-02T11:12:35.471727",
     "exception": false,
     "start_time": "2020-11-02T11:12:35.422855",
     "status": "completed"
    },
    "tags": []
   },
   "source": [
    "## 2.3b Distribution of the stars\n"
   ]
  },
  {
   "cell_type": "code",
   "execution_count": null,
   "metadata": {
    "papermill": {
     "duration": 0.044526,
     "end_time": "2020-11-02T11:12:35.559979",
     "exception": false,
     "start_time": "2020-11-02T11:12:35.515453",
     "status": "completed"
    },
    "tags": []
   },
   "outputs": [],
   "source": []
  },
  {
   "cell_type": "code",
   "execution_count": 6,
   "metadata": {
    "execution": {
     "iopub.execute_input": "2020-11-02T11:12:35.656022Z",
     "iopub.status.busy": "2020-11-02T11:12:35.655365Z",
     "iopub.status.idle": "2020-11-02T11:12:35.766202Z",
     "shell.execute_reply": "2020-11-02T11:12:35.765321Z"
    },
    "papermill": {
     "duration": 0.161638,
     "end_time": "2020-11-02T11:12:35.766322",
     "exception": false,
     "start_time": "2020-11-02T11:12:35.604684",
     "status": "completed"
    },
    "tags": []
   },
   "outputs": [
    {
     "data": {
      "image/png": "[encoded data removed]",
      "text/plain": [
       "<Figure size 432x288 with 1 Axes>"
      ]
     },
     "metadata": {},
     "output_type": "display_data"
    }
   ],
   "source": [
    "\n",
    "labels = data['stars'].value_counts().index\n",
    "sizes = data['stars'].value_counts().values   \n",
    "fig1, ax1 = plt.subplots()\n",
    "ax1.pie(sizes, labels=labels, autopct='%1.1f%%', shadow=True)\n",
    "ax1.axis('equal')\n",
    "plt.show()\n",
    "\n"
   ]
  },
  {
   "cell_type": "markdown",
   "metadata": {
    "papermill": {
     "duration": 0.044991,
     "end_time": "2020-11-02T11:12:35.857514",
     "exception": false,
     "start_time": "2020-11-02T11:12:35.812523",
     "status": "completed"
    },
    "tags": []
   },
   "source": [
    "It seems that there quite a lot possitive ( > 3 ) values over 65 %. We use Logistic regression.The **Naive Bayes** does not seem reasonable, because it is required to have proportion of negative and possitive data to be similar, that is arou 50 % each. "
   ]
  },
  {
   "cell_type": "code",
   "execution_count": 7,
   "metadata": {
    "execution": {
     "iopub.execute_input": "2020-11-02T11:12:35.968608Z",
     "iopub.status.busy": "2020-11-02T11:12:35.953110Z",
     "iopub.status.idle": "2020-11-02T11:12:36.415517Z",
     "shell.execute_reply": "2020-11-02T11:12:36.414874Z"
    },
    "papermill": {
     "duration": 0.513184,
     "end_time": "2020-11-02T11:12:36.415701",
     "exception": false,
     "start_time": "2020-11-02T11:12:35.902517",
     "status": "completed"
    },
    "tags": []
   },
   "outputs": [
    {
     "data": {
      "text/plain": [
       "<matplotlib.axes._subplots.AxesSubplot at 0x7f67bd9b8810>"
      ]
     },
     "execution_count": 7,
     "metadata": {},
     "output_type": "execute_result"
    },
    {
     "data": {
      "image/png": "[encoded data removed]",
      "text/plain": [
       "<Figure size 432x288 with 1 Axes>"
      ]
     },
     "metadata": {
      "needs_background": "light"
     },
     "output_type": "display_data"
    }
   ],
   "source": [
    "sns.distplot(data['stars'], kde=False)"
   ]
  },
  {
   "cell_type": "markdown",
   "metadata": {
    "_cell_guid": "9b1f6b3a-2e7c-402a-813e-5d1d688f2db6",
    "_uuid": "77ad55b3-9e17-4329-a97c-a8f1175fc620",
    "papermill": {
     "duration": 0.045833,
     "end_time": "2020-11-02T11:12:36.509023",
     "exception": false,
     "start_time": "2020-11-02T11:12:36.463190",
     "status": "completed"
    },
    "tags": []
   },
   "source": [
    "# 3. Sentiment Analysis"
   ]
  },
  {
   "cell_type": "markdown",
   "metadata": {
    "_cell_guid": "ec73fa60-d87f-4aad-ab0b-a160744e5b3d",
    "_uuid": "2261a67f-b49f-412e-badf-33db2aa1de5d",
    "papermill": {
     "duration": 0.04549,
     "end_time": "2020-11-02T11:12:36.601119",
     "exception": false,
     "start_time": "2020-11-02T11:12:36.555629",
     "status": "completed"
    },
    "tags": []
   },
   "source": [
    "## 3.1 Create labels"
   ]
  },
  {
   "cell_type": "markdown",
   "metadata": {
    "papermill": {
     "duration": 0.046786,
     "end_time": "2020-11-02T11:12:36.694968",
     "exception": false,
     "start_time": "2020-11-02T11:12:36.648182",
     "status": "completed"
    },
    "tags": []
   },
   "source": [
    "To have some balance in possitive and negative sentiment, values over 3 would be treated as possitive."
   ]
  },
  {
   "cell_type": "code",
   "execution_count": 8,
   "metadata": {
    "_cell_guid": "f26a1296-2d3b-44b5-8b48-3e7c5be5089c",
    "_uuid": "52cca85c-3600-4d3f-8266-becb78ddc784",
    "execution": {
     "iopub.execute_input": "2020-11-02T11:12:36.793258Z",
     "iopub.status.busy": "2020-11-02T11:12:36.792431Z",
     "iopub.status.idle": "2020-11-02T11:12:36.813306Z",
     "shell.execute_reply": "2020-11-02T11:12:36.812613Z"
    },
    "papermill": {
     "duration": 0.072256,
     "end_time": "2020-11-02T11:12:36.813435",
     "exception": false,
     "start_time": "2020-11-02T11:12:36.741179",
     "status": "completed"
    },
    "tags": []
   },
   "outputs": [
    {
     "data": {
      "text/html": [
       "<div>\n",
       "<style scoped>\n",
       "    .dataframe tbody tr th:only-of-type {\n",
       "        vertical-align: middle;\n",
       "    }\n",
       "\n",
       "    .dataframe tbody tr th {\n",
       "        vertical-align: top;\n",
       "    }\n",
       "\n",
       "    .dataframe thead th {\n",
       "        text-align: right;\n",
       "    }\n",
       "</style>\n",
       "<table border=\"1\" class=\"dataframe\">\n",
       "  <thead>\n",
       "    <tr style=\"text-align: right;\">\n",
       "      <th></th>\n",
       "      <th>stars</th>\n",
       "      <th>text</th>\n",
       "      <th>labels</th>\n",
       "    </tr>\n",
       "  </thead>\n",
       "  <tbody>\n",
       "    <tr>\n",
       "      <th>0</th>\n",
       "      <td>2.0</td>\n",
       "      <td>As someone who has worked with many museums, I...</td>\n",
       "      <td>0</td>\n",
       "    </tr>\n",
       "    <tr>\n",
       "      <th>1</th>\n",
       "      <td>1.0</td>\n",
       "      <td>I am actually horrified this place is still in...</td>\n",
       "      <td>0</td>\n",
       "    </tr>\n",
       "    <tr>\n",
       "      <th>2</th>\n",
       "      <td>5.0</td>\n",
       "      <td>I love Deagan's. I do. I really do. The atmosp...</td>\n",
       "      <td>1</td>\n",
       "    </tr>\n",
       "    <tr>\n",
       "      <th>3</th>\n",
       "      <td>1.0</td>\n",
       "      <td>Dismal, lukewarm, defrosted-tasting \"TexMex\" g...</td>\n",
       "      <td>0</td>\n",
       "    </tr>\n",
       "    <tr>\n",
       "      <th>4</th>\n",
       "      <td>4.0</td>\n",
       "      <td>Oh happy day, finally have a Canes near my cas...</td>\n",
       "      <td>1</td>\n",
       "    </tr>\n",
       "    <tr>\n",
       "      <th>5</th>\n",
       "      <td>5.0</td>\n",
       "      <td>This is definitely my favorite fast food sub s...</td>\n",
       "      <td>1</td>\n",
       "    </tr>\n",
       "    <tr>\n",
       "      <th>6</th>\n",
       "      <td>5.0</td>\n",
       "      <td>Really good place with simple decor, amazing f...</td>\n",
       "      <td>1</td>\n",
       "    </tr>\n",
       "    <tr>\n",
       "      <th>7</th>\n",
       "      <td>5.0</td>\n",
       "      <td>Awesome office and staff, very professional an...</td>\n",
       "      <td>1</td>\n",
       "    </tr>\n",
       "    <tr>\n",
       "      <th>8</th>\n",
       "      <td>5.0</td>\n",
       "      <td>Most delicious authentic Italian I've had in t...</td>\n",
       "      <td>1</td>\n",
       "    </tr>\n",
       "    <tr>\n",
       "      <th>9</th>\n",
       "      <td>4.0</td>\n",
       "      <td>I have been here twice. Very nice and laid bac...</td>\n",
       "      <td>1</td>\n",
       "    </tr>\n",
       "  </tbody>\n",
       "</table>\n",
       "</div>"
      ],
      "text/plain": [
       "   stars                                               text  labels\n",
       "0    2.0  As someone who has worked with many museums, I...       0\n",
       "1    1.0  I am actually horrified this place is still in...       0\n",
       "2    5.0  I love Deagan's. I do. I really do. The atmosp...       1\n",
       "3    1.0  Dismal, lukewarm, defrosted-tasting \"TexMex\" g...       0\n",
       "4    4.0  Oh happy day, finally have a Canes near my cas...       1\n",
       "5    5.0  This is definitely my favorite fast food sub s...       1\n",
       "6    5.0  Really good place with simple decor, amazing f...       1\n",
       "7    5.0  Awesome office and staff, very professional an...       1\n",
       "8    5.0  Most delicious authentic Italian I've had in t...       1\n",
       "9    4.0  I have been here twice. Very nice and laid bac...       1"
      ]
     },
     "execution_count": 8,
     "metadata": {},
     "output_type": "execute_result"
    }
   ],
   "source": [
    "data['labels']  = np.where(data['stars']>3,1,0)\n",
    "data.head(10)"
   ]
  },
  {
   "cell_type": "markdown",
   "metadata": {
    "papermill": {
     "duration": 0.046962,
     "end_time": "2020-11-02T11:12:36.907100",
     "exception": false,
     "start_time": "2020-11-02T11:12:36.860138",
     "status": "completed"
    },
    "tags": []
   },
   "source": [
    "# 4 Preprocess data"
   ]
  },
  {
   "cell_type": "markdown",
   "metadata": {
    "papermill": {
     "duration": 0.047228,
     "end_time": "2020-11-02T11:12:37.001375",
     "exception": false,
     "start_time": "2020-11-02T11:12:36.954147",
     "status": "completed"
    },
    "tags": []
   },
   "source": [
    "## 4.1 Cleaning regex etc..."
   ]
  },
  {
   "cell_type": "code",
   "execution_count": 9,
   "metadata": {
    "execution": {
     "iopub.execute_input": "2020-11-02T11:12:37.102642Z",
     "iopub.status.busy": "2020-11-02T11:12:37.101721Z",
     "iopub.status.idle": "2020-11-02T11:12:37.107814Z",
     "shell.execute_reply": "2020-11-02T11:12:37.108522Z"
    },
    "papermill": {
     "duration": 0.059755,
     "end_time": "2020-11-02T11:12:37.108762",
     "exception": false,
     "start_time": "2020-11-02T11:12:37.049007",
     "status": "completed"
    },
    "tags": []
   },
   "outputs": [
    {
     "name": "stdout",
     "output_type": "stream",
     "text": [
      "Help on function text_clean in module utils_yelp:\n",
      "\n",
      "text_clean(review)\n",
      "    Process review into token\n",
      "           remove following regex\n",
      "    \n",
      "        # remove hypertext links\n",
      "        review = re.sub(r'https?:\\/\\/.*[\r\n",
      "    ]*', '', review)\n",
      "        # extract hash tag\n",
      "        review = re.sub(r'@', '', review)\n",
      "        # extract @\n",
      "        review = re.sub(r'#', '', review)\n",
      "        # extract numbers\n",
      "        review = re.sub('[0-9]*[+-:]*[0-9]+', '', review)\n",
      "        # extract '\n",
      "        review = re.sub(\"'s\", \"\", review)\n",
      "    \n",
      "        strip empty spaces and lower case words.\n",
      "    \n",
      "           :param review: the review.\n",
      "           :rtype review: string\n",
      "    \n",
      "           :return list_of_words: list with words cleaned fro mthe review.\n",
      "\n"
     ]
    }
   ],
   "source": [
    "help(utils_yelp.text_clean)\n"
   ]
  },
  {
   "cell_type": "code",
   "execution_count": 10,
   "metadata": {
    "execution": {
     "iopub.execute_input": "2020-11-02T11:12:37.211699Z",
     "iopub.status.busy": "2020-11-02T11:12:37.210841Z",
     "iopub.status.idle": "2020-11-02T11:13:45.072129Z",
     "shell.execute_reply": "2020-11-02T11:13:45.071229Z"
    },
    "papermill": {
     "duration": 67.914458,
     "end_time": "2020-11-02T11:13:45.072282",
     "exception": false,
     "start_time": "2020-11-02T11:12:37.157824",
     "status": "completed"
    },
    "tags": []
   },
   "outputs": [
    {
     "data": {
      "application/vnd.jupyter.widget-view+json": {
       "model_id": "a7afcaa7ce1b4649a5ad916e5c353029",
       "version_major": 2,
       "version_minor": 0
      },
      "text/plain": [
       "HBox(children=(FloatProgress(value=0.0, max=1000000.0), HTML(value='')))"
      ]
     },
     "metadata": {},
     "output_type": "display_data"
    },
    {
     "name": "stdout",
     "output_type": "stream",
     "text": [
      "\n"
     ]
    },
    {
     "data": {
      "text/html": [
       "<div>\n",
       "<style scoped>\n",
       "    .dataframe tbody tr th:only-of-type {\n",
       "        vertical-align: middle;\n",
       "    }\n",
       "\n",
       "    .dataframe tbody tr th {\n",
       "        vertical-align: top;\n",
       "    }\n",
       "\n",
       "    .dataframe thead th {\n",
       "        text-align: right;\n",
       "    }\n",
       "</style>\n",
       "<table border=\"1\" class=\"dataframe\">\n",
       "  <thead>\n",
       "    <tr style=\"text-align: right;\">\n",
       "      <th></th>\n",
       "      <th>stars</th>\n",
       "      <th>text</th>\n",
       "      <th>labels</th>\n",
       "    </tr>\n",
       "  </thead>\n",
       "  <tbody>\n",
       "    <tr>\n",
       "      <th>0</th>\n",
       "      <td>2.0</td>\n",
       "      <td>as someone who has worked with many museums, i...</td>\n",
       "      <td>0</td>\n",
       "    </tr>\n",
       "    <tr>\n",
       "      <th>1</th>\n",
       "      <td>1.0</td>\n",
       "      <td>i am actually horrified this place is still in...</td>\n",
       "      <td>0</td>\n",
       "    </tr>\n",
       "    <tr>\n",
       "      <th>2</th>\n",
       "      <td>5.0</td>\n",
       "      <td>i love deagan. i do. i really do. the atmosphe...</td>\n",
       "      <td>1</td>\n",
       "    </tr>\n",
       "    <tr>\n",
       "      <th>3</th>\n",
       "      <td>1.0</td>\n",
       "      <td>dismal, lukewarm, defrosted-tasting \"texmex\" g...</td>\n",
       "      <td>0</td>\n",
       "    </tr>\n",
       "    <tr>\n",
       "      <th>4</th>\n",
       "      <td>4.0</td>\n",
       "      <td>oh happy day, finally have a canes near my cas...</td>\n",
       "      <td>1</td>\n",
       "    </tr>\n",
       "  </tbody>\n",
       "</table>\n",
       "</div>"
      ],
      "text/plain": [
       "   stars                                               text  labels\n",
       "0    2.0  as someone who has worked with many museums, i...       0\n",
       "1    1.0  i am actually horrified this place is still in...       0\n",
       "2    5.0  i love deagan. i do. i really do. the atmosphe...       1\n",
       "3    1.0  dismal, lukewarm, defrosted-tasting \"texmex\" g...       0\n",
       "4    4.0  oh happy day, finally have a canes near my cas...       1"
      ]
     },
     "execution_count": 10,
     "metadata": {},
     "output_type": "execute_result"
    }
   ],
   "source": [
    "\n",
    "data['text']=data['text'].progress_apply(lambda x: utils_yelp.text_clean(x))\n",
    "data.head(5)"
   ]
  },
  {
   "cell_type": "markdown",
   "metadata": {
    "papermill": {
     "duration": 0.050557,
     "end_time": "2020-11-02T11:13:45.172797",
     "exception": false,
     "start_time": "2020-11-02T11:13:45.122240",
     "status": "completed"
    },
    "tags": []
   },
   "source": [
    "## 4.2 Cleaning punctuation"
   ]
  },
  {
   "cell_type": "code",
   "execution_count": 11,
   "metadata": {
    "execution": {
     "iopub.execute_input": "2020-11-02T11:13:45.281532Z",
     "iopub.status.busy": "2020-11-02T11:13:45.280715Z",
     "iopub.status.idle": "2020-11-02T11:13:45.287297Z",
     "shell.execute_reply": "2020-11-02T11:13:45.288164Z"
    },
    "papermill": {
     "duration": 0.064521,
     "end_time": "2020-11-02T11:13:45.288384",
     "exception": false,
     "start_time": "2020-11-02T11:13:45.223863",
     "status": "completed"
    },
    "tags": []
   },
   "outputs": [
    {
     "name": "stdout",
     "output_type": "stream",
     "text": [
      "Help on function remove_punctuations in module utils_yelp:\n",
      "\n",
      "remove_punctuations(string)\n",
      "    Remove puctuation.\n",
      "    :param string:\n",
      "    :return: string\n",
      "\n"
     ]
    }
   ],
   "source": [
    "help(utils_yelp.remove_punctuations)\n"
   ]
  },
  {
   "cell_type": "code",
   "execution_count": 12,
   "metadata": {
    "execution": {
     "iopub.execute_input": "2020-11-02T11:13:45.465178Z",
     "iopub.status.busy": "2020-11-02T11:13:45.444860Z",
     "iopub.status.idle": "2020-11-02T11:15:12.240068Z",
     "shell.execute_reply": "2020-11-02T11:15:12.240779Z"
    },
    "papermill": {
     "duration": 86.877033,
     "end_time": "2020-11-02T11:15:12.240981",
     "exception": false,
     "start_time": "2020-11-02T11:13:45.363948",
     "status": "completed"
    },
    "tags": []
   },
   "outputs": [
    {
     "data": {
      "application/vnd.jupyter.widget-view+json": {
       "model_id": "850965aabb4a45ee89132020fae4aee1",
       "version_major": 2,
       "version_minor": 0
      },
      "text/plain": [
       "HBox(children=(FloatProgress(value=0.0, max=1000000.0), HTML(value='')))"
      ]
     },
     "metadata": {},
     "output_type": "display_data"
    },
    {
     "name": "stdout",
     "output_type": "stream",
     "text": [
      "\n"
     ]
    },
    {
     "data": {
      "text/html": [
       "<div>\n",
       "<style scoped>\n",
       "    .dataframe tbody tr th:only-of-type {\n",
       "        vertical-align: middle;\n",
       "    }\n",
       "\n",
       "    .dataframe tbody tr th {\n",
       "        vertical-align: top;\n",
       "    }\n",
       "\n",
       "    .dataframe thead th {\n",
       "        text-align: right;\n",
       "    }\n",
       "</style>\n",
       "<table border=\"1\" class=\"dataframe\">\n",
       "  <thead>\n",
       "    <tr style=\"text-align: right;\">\n",
       "      <th></th>\n",
       "      <th>stars</th>\n",
       "      <th>text</th>\n",
       "      <th>labels</th>\n",
       "    </tr>\n",
       "  </thead>\n",
       "  <tbody>\n",
       "    <tr>\n",
       "      <th>0</th>\n",
       "      <td>2.0</td>\n",
       "      <td>as someone who has worked with many museums i ...</td>\n",
       "      <td>0</td>\n",
       "    </tr>\n",
       "    <tr>\n",
       "      <th>1</th>\n",
       "      <td>1.0</td>\n",
       "      <td>i am actually horrified this place is still in...</td>\n",
       "      <td>0</td>\n",
       "    </tr>\n",
       "    <tr>\n",
       "      <th>2</th>\n",
       "      <td>5.0</td>\n",
       "      <td>i love deagan i do i really do the atmosphere ...</td>\n",
       "      <td>1</td>\n",
       "    </tr>\n",
       "    <tr>\n",
       "      <th>3</th>\n",
       "      <td>1.0</td>\n",
       "      <td>dismal lukewarm defrostedtasting texmex glop\\n...</td>\n",
       "      <td>0</td>\n",
       "    </tr>\n",
       "    <tr>\n",
       "      <th>4</th>\n",
       "      <td>4.0</td>\n",
       "      <td>oh happy day finally have a canes near my casa...</td>\n",
       "      <td>1</td>\n",
       "    </tr>\n",
       "  </tbody>\n",
       "</table>\n",
       "</div>"
      ],
      "text/plain": [
       "   stars                                               text  labels\n",
       "0    2.0  as someone who has worked with many museums i ...       0\n",
       "1    1.0  i am actually horrified this place is still in...       0\n",
       "2    5.0  i love deagan i do i really do the atmosphere ...       1\n",
       "3    1.0  dismal lukewarm defrostedtasting texmex glop\\n...       0\n",
       "4    4.0  oh happy day finally have a canes near my casa...       1"
      ]
     },
     "execution_count": 12,
     "metadata": {},
     "output_type": "execute_result"
    }
   ],
   "source": [
    "\n",
    "\n",
    "    \n",
    "data['text']=data['text'].progress_apply(lambda x: utils_yelp.remove_punctuations(x))\n",
    "data.head(5) "
   ]
  },
  {
   "cell_type": "markdown",
   "metadata": {
    "papermill": {
     "duration": 0.050649,
     "end_time": "2020-11-02T11:15:12.343263",
     "exception": false,
     "start_time": "2020-11-02T11:15:12.292614",
     "status": "completed"
    },
    "tags": []
   },
   "source": [
    "## 4.3 Cleaning stopwords\n",
    "This takes very long since all sentences are split t the word a then reconstruct back to sentence."
   ]
  },
  {
   "cell_type": "code",
   "execution_count": 13,
   "metadata": {
    "execution": {
     "iopub.execute_input": "2020-11-02T11:15:12.454294Z",
     "iopub.status.busy": "2020-11-02T11:15:12.453240Z",
     "iopub.status.idle": "2020-11-02T11:15:12.459054Z",
     "shell.execute_reply": "2020-11-02T11:15:12.457406Z"
    },
    "papermill": {
     "duration": 0.064189,
     "end_time": "2020-11-02T11:15:12.459235",
     "exception": false,
     "start_time": "2020-11-02T11:15:12.395046",
     "status": "completed"
    },
    "tags": []
   },
   "outputs": [
    {
     "name": "stdout",
     "output_type": "stream",
     "text": [
      "Help on function remove_stopwords in module utils_yelp:\n",
      "\n",
      "remove_stopwords(string, stop_words)\n",
      "    Removing stop words.\n",
      "    :param string:\n",
      "    :param stop_words:\n",
      "    :return: string\n",
      "\n"
     ]
    }
   ],
   "source": [
    "help(utils_yelp.remove_stopwords)"
   ]
  },
  {
   "cell_type": "code",
   "execution_count": 14,
   "metadata": {
    "execution": {
     "iopub.execute_input": "2020-11-02T11:15:12.624061Z",
     "iopub.status.busy": "2020-11-02T11:15:12.623110Z",
     "iopub.status.idle": "2020-11-02T11:15:12.644390Z",
     "shell.execute_reply": "2020-11-02T11:15:12.643685Z"
    },
    "papermill": {
     "duration": 0.105945,
     "end_time": "2020-11-02T11:15:12.644504",
     "exception": false,
     "start_time": "2020-11-02T11:15:12.538559",
     "status": "completed"
    },
    "tags": []
   },
   "outputs": [
    {
     "data": {
      "text/html": [
       "<div>\n",
       "<style scoped>\n",
       "    .dataframe tbody tr th:only-of-type {\n",
       "        vertical-align: middle;\n",
       "    }\n",
       "\n",
       "    .dataframe tbody tr th {\n",
       "        vertical-align: top;\n",
       "    }\n",
       "\n",
       "    .dataframe thead th {\n",
       "        text-align: right;\n",
       "    }\n",
       "</style>\n",
       "<table border=\"1\" class=\"dataframe\">\n",
       "  <thead>\n",
       "    <tr style=\"text-align: right;\">\n",
       "      <th></th>\n",
       "      <th>stars</th>\n",
       "      <th>text</th>\n",
       "      <th>labels</th>\n",
       "    </tr>\n",
       "  </thead>\n",
       "  <tbody>\n",
       "    <tr>\n",
       "      <th>0</th>\n",
       "      <td>2.0</td>\n",
       "      <td>as someone who has worked with many museums i ...</td>\n",
       "      <td>0</td>\n",
       "    </tr>\n",
       "    <tr>\n",
       "      <th>1</th>\n",
       "      <td>1.0</td>\n",
       "      <td>i am actually horrified this place is still in...</td>\n",
       "      <td>0</td>\n",
       "    </tr>\n",
       "    <tr>\n",
       "      <th>2</th>\n",
       "      <td>5.0</td>\n",
       "      <td>i love deagan i do i really do the atmosphere ...</td>\n",
       "      <td>1</td>\n",
       "    </tr>\n",
       "    <tr>\n",
       "      <th>3</th>\n",
       "      <td>1.0</td>\n",
       "      <td>dismal lukewarm defrostedtasting texmex glop\\n...</td>\n",
       "      <td>0</td>\n",
       "    </tr>\n",
       "    <tr>\n",
       "      <th>4</th>\n",
       "      <td>4.0</td>\n",
       "      <td>oh happy day finally have a canes near my casa...</td>\n",
       "      <td>1</td>\n",
       "    </tr>\n",
       "  </tbody>\n",
       "</table>\n",
       "</div>"
      ],
      "text/plain": [
       "   stars                                               text  labels\n",
       "0    2.0  as someone who has worked with many museums i ...       0\n",
       "1    1.0  i am actually horrified this place is still in...       0\n",
       "2    5.0  i love deagan i do i really do the atmosphere ...       1\n",
       "3    1.0  dismal lukewarm defrostedtasting texmex glop\\n...       0\n",
       "4    4.0  oh happy day finally have a canes near my casa...       1"
      ]
     },
     "execution_count": 14,
     "metadata": {},
     "output_type": "execute_result"
    }
   ],
   "source": [
    "stop_words = stopwords.words('english')\n",
    "# It takes to long for whole data set, therefore logic is shift to the CountVectoriser\n",
    "#data['text']=data['text'].progress_apply(lambda x: utils_yelp.remove_stopwords(x,stop_words))\n",
    "data.head(5)    "
   ]
  },
  {
   "cell_type": "code",
   "execution_count": 15,
   "metadata": {
    "execution": {
     "iopub.execute_input": "2020-11-02T11:15:12.761312Z",
     "iopub.status.busy": "2020-11-02T11:15:12.759974Z",
     "iopub.status.idle": "2020-11-02T11:15:12.764428Z",
     "shell.execute_reply": "2020-11-02T11:15:12.765987Z"
    },
    "papermill": {
     "duration": 0.065446,
     "end_time": "2020-11-02T11:15:12.766187",
     "exception": false,
     "start_time": "2020-11-02T11:15:12.700741",
     "status": "completed"
    },
    "tags": []
   },
   "outputs": [
    {
     "name": "stdout",
     "output_type": "stream",
     "text": [
      "Help on function stemming in module utils_yelp:\n",
      "\n",
      "stemming(str_input)\n",
      "    Stemmer. Removing ing , ed etc....\n",
      "    :param str_input: Input sentence\n",
      "    :return: string of stemmed words\n",
      "\n"
     ]
    }
   ],
   "source": [
    "help(utils_yelp.stemming)"
   ]
  },
  {
   "cell_type": "code",
   "execution_count": 16,
   "metadata": {
    "execution": {
     "iopub.execute_input": "2020-11-02T11:15:12.960122Z",
     "iopub.status.busy": "2020-11-02T11:15:12.959211Z",
     "iopub.status.idle": "2020-11-02T12:22:14.709844Z",
     "shell.execute_reply": "2020-11-02T12:22:14.710611Z"
    },
    "papermill": {
     "duration": 4021.862266,
     "end_time": "2020-11-02T12:22:14.710796",
     "exception": false,
     "start_time": "2020-11-02T11:15:12.848530",
     "status": "completed"
    },
    "tags": []
   },
   "outputs": [
    {
     "data": {
      "application/vnd.jupyter.widget-view+json": {
       "model_id": "01219c4b55ca4769951751faf173bd28",
       "version_major": 2,
       "version_minor": 0
      },
      "text/plain": [
       "HBox(children=(FloatProgress(value=0.0, max=1000000.0), HTML(value='')))"
      ]
     },
     "metadata": {},
     "output_type": "display_data"
    },
    {
     "name": "stdout",
     "output_type": "stream",
     "text": [
      "\n"
     ]
    },
    {
     "data": {
      "text/html": [
       "<div>\n",
       "<style scoped>\n",
       "    .dataframe tbody tr th:only-of-type {\n",
       "        vertical-align: middle;\n",
       "    }\n",
       "\n",
       "    .dataframe tbody tr th {\n",
       "        vertical-align: top;\n",
       "    }\n",
       "\n",
       "    .dataframe thead th {\n",
       "        text-align: right;\n",
       "    }\n",
       "</style>\n",
       "<table border=\"1\" class=\"dataframe\">\n",
       "  <thead>\n",
       "    <tr style=\"text-align: right;\">\n",
       "      <th></th>\n",
       "      <th>stars</th>\n",
       "      <th>text</th>\n",
       "      <th>labels</th>\n",
       "    </tr>\n",
       "  </thead>\n",
       "  <tbody>\n",
       "    <tr>\n",
       "      <th>0</th>\n",
       "      <td>2.0</td>\n",
       "      <td>as someon who ha work with mani museum i wa ea...</td>\n",
       "      <td>0</td>\n",
       "    </tr>\n",
       "    <tr>\n",
       "      <th>1</th>\n",
       "      <td>1.0</td>\n",
       "      <td>i am actual horrifi thi place is still in busi...</td>\n",
       "      <td>0</td>\n",
       "    </tr>\n",
       "    <tr>\n",
       "      <th>2</th>\n",
       "      <td>5.0</td>\n",
       "      <td>i love deagan i do i realli do the atmospher i...</td>\n",
       "      <td>1</td>\n",
       "    </tr>\n",
       "    <tr>\n",
       "      <th>3</th>\n",
       "      <td>1.0</td>\n",
       "      <td>dismal lukewarm defrostedtast texmex glop mumb...</td>\n",
       "      <td>0</td>\n",
       "    </tr>\n",
       "    <tr>\n",
       "      <th>4</th>\n",
       "      <td>4.0</td>\n",
       "      <td>oh happi day final have a cane near my casa ye...</td>\n",
       "      <td>1</td>\n",
       "    </tr>\n",
       "  </tbody>\n",
       "</table>\n",
       "</div>"
      ],
      "text/plain": [
       "   stars                                               text  labels\n",
       "0    2.0  as someon who ha work with mani museum i wa ea...       0\n",
       "1    1.0  i am actual horrifi thi place is still in busi...       0\n",
       "2    5.0  i love deagan i do i realli do the atmospher i...       1\n",
       "3    1.0  dismal lukewarm defrostedtast texmex glop mumb...       0\n",
       "4    4.0  oh happi day final have a cane near my casa ye...       1"
      ]
     },
     "execution_count": 16,
     "metadata": {},
     "output_type": "execute_result"
    }
   ],
   "source": [
    "# takes really long need to imporve if i have time\n",
    "data['text']=data['text'].progress_apply(lambda x: utils_yelp.stemming(x))\n",
    "data.head(5) "
   ]
  },
  {
   "cell_type": "markdown",
   "metadata": {
    "papermill": {
     "duration": 0.080144,
     "end_time": "2020-11-02T12:22:14.872343",
     "exception": false,
     "start_time": "2020-11-02T12:22:14.792199",
     "status": "completed"
    },
    "tags": []
   },
   "source": [
    "# 5. Splitting data"
   ]
  },
  {
   "cell_type": "markdown",
   "metadata": {
    "papermill": {
     "duration": 0.081174,
     "end_time": "2020-11-02T12:22:15.034878",
     "exception": false,
     "start_time": "2020-11-02T12:22:14.953704",
     "status": "completed"
    },
    "tags": []
   },
   "source": [
    "Split data to train and test with size 0.7.****"
   ]
  },
  {
   "cell_type": "code",
   "execution_count": 17,
   "metadata": {
    "execution": {
     "iopub.execute_input": "2020-11-02T12:22:15.213986Z",
     "iopub.status.busy": "2020-11-02T12:22:15.213112Z",
     "iopub.status.idle": "2020-11-02T12:22:15.595867Z",
     "shell.execute_reply": "2020-11-02T12:22:15.595294Z"
    },
    "papermill": {
     "duration": 0.472485,
     "end_time": "2020-11-02T12:22:15.596005",
     "exception": false,
     "start_time": "2020-11-02T12:22:15.123520",
     "status": "completed"
    },
    "tags": []
   },
   "outputs": [
    {
     "data": {
      "text/plain": [
       "(700000,)"
      ]
     },
     "metadata": {},
     "output_type": "display_data"
    },
    {
     "data": {
      "text/plain": [
       "(700000,)"
      ]
     },
     "metadata": {},
     "output_type": "display_data"
    },
    {
     "data": {
      "text/plain": [
       "(700000,)"
      ]
     },
     "metadata": {},
     "output_type": "display_data"
    },
    {
     "data": {
      "text/plain": [
       "(300000,)"
      ]
     },
     "metadata": {},
     "output_type": "display_data"
    }
   ],
   "source": [
    "X_train_corp, X_test_corp, y_train, y_test = model_selection.train_test_split(data['text'], data['labels'],test_size=0.3, random_state=42)\n",
    "display(X_train_corp.shape)\n",
    "display(X_train_corp.shape)\n",
    "display(y_train.shape)\n",
    "display(y_test.shape)"
   ]
  },
  {
   "cell_type": "markdown",
   "metadata": {
    "papermill": {
     "duration": 0.055266,
     "end_time": "2020-11-02T12:22:15.709029",
     "exception": false,
     "start_time": "2020-11-02T12:22:15.653763",
     "status": "completed"
    },
    "tags": []
   },
   "source": [
    "# 6. Modelling"
   ]
  },
  {
   "cell_type": "code",
   "execution_count": 18,
   "metadata": {
    "execution": {
     "iopub.execute_input": "2020-11-02T12:22:15.902331Z",
     "iopub.status.busy": "2020-11-02T12:22:15.896987Z",
     "iopub.status.idle": "2020-11-02T12:25:49.446041Z",
     "shell.execute_reply": "2020-11-02T12:25:49.446629Z"
    },
    "papermill": {
     "duration": 213.681405,
     "end_time": "2020-11-02T12:25:49.446795",
     "exception": false,
     "start_time": "2020-11-02T12:22:15.765390",
     "status": "completed"
    },
    "tags": []
   },
   "outputs": [
    {
     "name": "stdout",
     "output_type": "stream",
     "text": [
      "(700000, 9625)\n"
     ]
    }
   ],
   "source": [
    "# Prepare vector with frequencies\n",
    "vector_count = CountVectorizer(min_df=100, ngram_range=(1, 1),stop_words=stop_words)\n",
    "X_train = vector_count.fit(X_train_corp).transform(X_train_corp) \n",
    "X_test = vector_count.transform(X_test_corp)\n",
    "print(X_train.shape) "
   ]
  },
  {
   "cell_type": "markdown",
   "metadata": {
    "papermill": {
     "duration": 0.057387,
     "end_time": "2020-11-02T12:25:49.562665",
     "exception": false,
     "start_time": "2020-11-02T12:25:49.505278",
     "status": "completed"
    },
    "tags": []
   },
   "source": [
    "# 6.1 Logistic Regrssion"
   ]
  },
  {
   "cell_type": "code",
   "execution_count": 19,
   "metadata": {
    "execution": {
     "iopub.execute_input": "2020-11-02T12:25:49.685773Z",
     "iopub.status.busy": "2020-11-02T12:25:49.684919Z",
     "iopub.status.idle": "2020-11-02T12:29:25.261145Z",
     "shell.execute_reply": "2020-11-02T12:29:25.261876Z"
    },
    "papermill": {
     "duration": 215.642201,
     "end_time": "2020-11-02T12:29:25.262068",
     "exception": false,
     "start_time": "2020-11-02T12:25:49.619867",
     "status": "completed"
    },
    "tags": []
   },
   "outputs": [
    {
     "name": "stdout",
     "output_type": "stream",
     "text": [
      "LG accuracy trainnig set: 0.9086642857142857\n",
      "LG accuracy test set: 0.90196\n",
      "MSE:  0.09804\n"
     ]
    }
   ],
   "source": [
    "logreg = LogisticRegression(max_iter=500,solver='liblinear').fit(X_train,y_train)\n",
    "#print (\"Accuracy: \", accuracy_score(y_test, logreg.predict(X_test)))\n",
    "   \n",
    "print(f\"LG accuracy trainnig set: {logreg.score(X_train, y_train)}\")\n",
    "print(f\"LG accuracy test set: {logreg.score(X_test, y_test)}\")\n",
    "print (\"MSE: \", mean_squared_error(y_test, logreg.predict(X_test)))"
   ]
  },
  {
   "cell_type": "markdown",
   "metadata": {
    "papermill": {
     "duration": 0.057452,
     "end_time": "2020-11-02T12:29:25.378471",
     "exception": false,
     "start_time": "2020-11-02T12:29:25.321019",
     "status": "completed"
    },
    "tags": []
   },
   "source": [
    "## Model summary"
   ]
  },
  {
   "cell_type": "markdown",
   "metadata": {
    "papermill": {
     "duration": 0.057063,
     "end_time": "2020-11-02T12:29:25.492284",
     "exception": false,
     "start_time": "2020-11-02T12:29:25.435221",
     "status": "completed"
    },
    "tags": []
   },
   "source": [
    "### Confusion Matrix"
   ]
  },
  {
   "cell_type": "code",
   "execution_count": 20,
   "metadata": {
    "execution": {
     "iopub.execute_input": "2020-11-02T12:29:25.615559Z",
     "iopub.status.busy": "2020-11-02T12:29:25.614874Z",
     "iopub.status.idle": "2020-11-02T12:29:26.177531Z",
     "shell.execute_reply": "2020-11-02T12:29:26.176845Z"
    },
    "papermill": {
     "duration": 0.627792,
     "end_time": "2020-11-02T12:29:26.177675",
     "exception": false,
     "start_time": "2020-11-02T12:29:25.549883",
     "status": "completed"
    },
    "tags": []
   },
   "outputs": [
    {
     "data": {
      "image/png": "[encoded data removed]",
      "text/plain": [
       "<Figure size 432x288 with 2 Axes>"
      ]
     },
     "metadata": {
      "needs_background": "light"
     },
     "output_type": "display_data"
    }
   ],
   "source": [
    "cm = plot_confusion_matrix(logreg, X_test, y_test,\n",
    "                                 display_labels=['Class 0', 'Class 1'],\n",
    "                                 cmap=plt.cm.Blues,\n",
    "                                 normalize='true')\n",
    "cm.ax_.set_title('Logistic regression Confusion Matrix');"
   ]
  },
  {
   "cell_type": "code",
   "execution_count": 21,
   "metadata": {
    "execution": {
     "iopub.execute_input": "2020-11-02T12:29:26.307070Z",
     "iopub.status.busy": "2020-11-02T12:29:26.305438Z",
     "iopub.status.idle": "2020-11-02T12:29:26.311153Z",
     "shell.execute_reply": "2020-11-02T12:29:26.310524Z"
    },
    "papermill": {
     "duration": 0.073354,
     "end_time": "2020-11-02T12:29:26.311276",
     "exception": false,
     "start_time": "2020-11-02T12:29:26.237922",
     "status": "completed"
    },
    "tags": []
   },
   "outputs": [
    {
     "name": "stdout",
     "output_type": "stream",
     "text": [
      "Help on function print_significant_words in module utils_yelp:\n",
      "\n",
      "print_significant_words(logreg_coef=None, class_=None, count=100, count_vector=None, graph=True)\n",
      "    :param logreg_coef: logistic regression coefficients\n",
      "    :param class_:  0 is negative, 1 positive\n",
      "    :param count: how many words to show, default to 100\n",
      "    :param count_vector: counting vector\n",
      "    :param graph: True ro print graph\n",
      "    :rtype logreg_coef: numpy array\n",
      "    :return:\n",
      "\n"
     ]
    }
   ],
   "source": [
    "help(utils_yelp.print_significant_words)"
   ]
  },
  {
   "cell_type": "code",
   "execution_count": 22,
   "metadata": {
    "execution": {
     "iopub.execute_input": "2020-11-02T12:29:26.437533Z",
     "iopub.status.busy": "2020-11-02T12:29:26.436772Z",
     "iopub.status.idle": "2020-11-02T12:29:26.442463Z",
     "shell.execute_reply": "2020-11-02T12:29:26.442975Z"
    },
    "papermill": {
     "duration": 0.072599,
     "end_time": "2020-11-02T12:29:26.443133",
     "exception": false,
     "start_time": "2020-11-02T12:29:26.370534",
     "status": "completed"
    },
    "tags": []
   },
   "outputs": [
    {
     "name": "stdout",
     "output_type": "stream",
     "text": [
      "Help on function wc in module utils_yelp:\n",
      "\n",
      "wc(words)\n",
      "    :param words: list of word to make fancy graph\n",
      "    :type words: list\n",
      "    :return:\n",
      "\n"
     ]
    }
   ],
   "source": [
    "help(utils_yelp.wc)"
   ]
  },
  {
   "cell_type": "markdown",
   "metadata": {
    "papermill": {
     "duration": 0.060916,
     "end_time": "2020-11-02T12:29:26.564010",
     "exception": false,
     "start_time": "2020-11-02T12:29:26.503094",
     "status": "completed"
    },
    "tags": []
   },
   "source": [
    "##  Most positive words"
   ]
  },
  {
   "cell_type": "code",
   "execution_count": 23,
   "metadata": {
    "execution": {
     "iopub.execute_input": "2020-11-02T12:29:26.717950Z",
     "iopub.status.busy": "2020-11-02T12:29:26.716911Z",
     "iopub.status.idle": "2020-11-02T12:29:27.417133Z",
     "shell.execute_reply": "2020-11-02T12:29:27.417712Z"
    },
    "papermill": {
     "duration": 0.789049,
     "end_time": "2020-11-02T12:29:27.417853",
     "exception": false,
     "start_time": "2020-11-02T12:29:26.628804",
     "status": "completed"
    },
    "tags": []
   },
   "outputs": [
    {
     "data": {
      "image/png": "[encoded data removed]",
      "text/plain": [
       "<Figure size 720x432 with 1 Axes>"
      ]
     },
     "metadata": {
      "needs_background": "light"
     },
     "output_type": "display_data"
    },
    {
     "data": {
      "image/png": "[encoded data removed]",
      "text/plain": [
       "<Figure size 936x936 with 1 Axes>"
      ]
     },
     "metadata": {
      "needs_background": "light"
     },
     "output_type": "display_data"
    }
   ],
   "source": [
    "\n",
    "\n",
    "words = utils_yelp.print_significant_words(logreg.coef_[0],1,15,vector_count,True)\n",
    "utils_yelp.wc(words)\n",
    "\n",
    "\n"
   ]
  },
  {
   "cell_type": "markdown",
   "metadata": {
    "papermill": {
     "duration": 0.066476,
     "end_time": "2020-11-02T12:29:27.549790",
     "exception": false,
     "start_time": "2020-11-02T12:29:27.483314",
     "status": "completed"
    },
    "tags": []
   },
   "source": [
    "##  Most negative words"
   ]
  },
  {
   "cell_type": "markdown",
   "metadata": {
    "papermill": {
     "duration": 0.066079,
     "end_time": "2020-11-02T12:29:27.684307",
     "exception": false,
     "start_time": "2020-11-02T12:29:27.618228",
     "status": "completed"
    },
    "tags": []
   },
   "source": []
  },
  {
   "cell_type": "code",
   "execution_count": 24,
   "metadata": {
    "execution": {
     "iopub.execute_input": "2020-11-02T12:29:27.821133Z",
     "iopub.status.busy": "2020-11-02T12:29:27.819792Z",
     "iopub.status.idle": "2020-11-02T12:29:28.371913Z",
     "shell.execute_reply": "2020-11-02T12:29:28.371192Z"
    },
    "papermill": {
     "duration": 0.622746,
     "end_time": "2020-11-02T12:29:28.372032",
     "exception": false,
     "start_time": "2020-11-02T12:29:27.749286",
     "status": "completed"
    },
    "tags": []
   },
   "outputs": [
    {
     "data": {
      "image/png": "[encoded data removed]",
      "text/plain": [
       "<Figure size 720x432 with 1 Axes>"
      ]
     },
     "metadata": {
      "needs_background": "light"
     },
     "output_type": "display_data"
    },
    {
     "data": {
      "image/png": "[encoded data removed]",
      "text/plain": [
       "<Figure size 936x936 with 1 Axes>"
      ]
     },
     "metadata": {
      "needs_background": "light"
     },
     "output_type": "display_data"
    }
   ],
   "source": [
    "words = utils_yelp.print_significant_words(logreg.coef_[0],0,15,vector_count,True)\n",
    "utils_yelp.wc(words)"
   ]
  },
  {
   "cell_type": "markdown",
   "metadata": {
    "papermill": {
     "duration": 0.069809,
     "end_time": "2020-11-02T12:29:28.511111",
     "exception": false,
     "start_time": "2020-11-02T12:29:28.441302",
     "status": "completed"
    },
    "tags": []
   },
   "source": [
    "# "
   ]
  },
  {
   "cell_type": "markdown",
   "metadata": {
    "papermill": {
     "duration": 0.072104,
     "end_time": "2020-11-02T12:29:28.652305",
     "exception": false,
     "start_time": "2020-11-02T12:29:28.580201",
     "status": "completed"
    },
    "tags": []
   },
   "source": [
    "# 6.2 XGBoost"
   ]
  },
  {
   "cell_type": "code",
   "execution_count": 25,
   "metadata": {
    "execution": {
     "iopub.execute_input": "2020-11-02T12:29:28.798009Z",
     "iopub.status.busy": "2020-11-02T12:29:28.797256Z",
     "iopub.status.idle": "2020-11-02T12:33:08.967438Z",
     "shell.execute_reply": "2020-11-02T12:33:08.968326Z"
    },
    "papermill": {
     "duration": 220.247319,
     "end_time": "2020-11-02T12:33:08.968501",
     "exception": false,
     "start_time": "2020-11-02T12:29:28.721182",
     "status": "completed"
    },
    "tags": []
   },
   "outputs": [
    {
     "name": "stdout",
     "output_type": "stream",
     "text": [
      "XGBoost score - trainnig set: 0.89153\n",
      "XGBoost score - test set: 0.8831566666666667\n",
      "MSE:  0.11684333333333333\n"
     ]
    }
   ],
   "source": [
    "\n",
    "XGB_model = XGBClassifier(random_state=1)\n",
    "XGB_model.fit(X_train, y_train)\n",
    "\n",
    "print(f\"XGBoost score - trainnig set: {XGB_model.score(X_train, y_train)}\")\n",
    "print(f\"XGBoost score - test set: {XGB_model.score(X_test, y_test)}\")\n",
    "print (\"MSE: \", mean_squared_error(y_test, XGB_model.predict(X_test)))"
   ]
  },
  {
   "cell_type": "code",
   "execution_count": 26,
   "metadata": {
    "execution": {
     "iopub.execute_input": "2020-11-02T12:33:19.651889Z",
     "iopub.status.busy": "2020-11-02T12:33:09.261961Z",
     "iopub.status.idle": "2020-11-02T12:33:21.567318Z",
     "shell.execute_reply": "2020-11-02T12:33:21.566630Z"
    },
    "papermill": {
     "duration": 12.51012,
     "end_time": "2020-11-02T12:33:21.567445",
     "exception": false,
     "start_time": "2020-11-02T12:33:09.057325",
     "status": "completed"
    },
    "tags": []
   },
   "outputs": [
    {
     "data": {
      "image/png": "[encoded data removed]",
      "text/plain": [
       "<Figure size 432x288 with 2 Axes>"
      ]
     },
     "metadata": {
      "needs_background": "light"
     },
     "output_type": "display_data"
    }
   ],
   "source": [
    "cm = plot_confusion_matrix(XGB_model ,X_test, y_test,\n",
    "                                 display_labels=['Class 0', 'Class 1'],\n",
    "                                 cmap=plt.cm.Blues,\n",
    "                                 normalize='true')\n",
    "cm.ax_.set_title('XGBoost Confusion Matrix');"
   ]
  },
  {
   "cell_type": "markdown",
   "metadata": {
    "papermill": {
     "duration": 0.074512,
     "end_time": "2020-11-02T12:33:21.715474",
     "exception": false,
     "start_time": "2020-11-02T12:33:21.640962",
     "status": "completed"
    },
    "tags": []
   },
   "source": [
    "# 6.3 Random Forest"
   ]
  },
  {
   "cell_type": "code",
   "execution_count": 27,
   "metadata": {
    "execution": {
     "iopub.execute_input": "2020-11-02T12:33:21.872238Z",
     "iopub.status.busy": "2020-11-02T12:33:21.871558Z",
     "iopub.status.idle": "2020-11-02T13:11:34.737359Z",
     "shell.execute_reply": "2020-11-02T13:11:34.737901Z"
    },
    "papermill": {
     "duration": 2292.949085,
     "end_time": "2020-11-02T13:11:34.738171",
     "exception": false,
     "start_time": "2020-11-02T12:33:21.789086",
     "status": "completed"
    },
    "tags": []
   },
   "outputs": [
    {
     "name": "stdout",
     "output_type": "stream",
     "text": [
      "1\n",
      "2\n",
      "3\n",
      "4\n",
      "5\n"
     ]
    }
   ],
   "source": [
    "score_tr = []\n",
    "score_t = []\n",
    "estim_depth = []\n",
    "mse_tr = []\n",
    "mse_t = []\n",
    "max_d = 5\n",
    "for i in range(1,max_d+1):\n",
    "    print(i)\n",
    "    random_forest_model = RandomForestClassifier(n_estimators=i,random_state=1)\n",
    "    random_forest_model.fit(X_train, y_train)\n",
    "    score_tr.append(random_forest_model.score(X_train, y_train))\n",
    "    score_t.append(random_forest_model.score(X_test, y_test))\n",
    "    mse_tr.append(mean_squared_error(y_train, random_forest_model.predict(X_train)))\n",
    "    mse_t.append(mean_squared_error(y_test, random_forest_model.predict(X_test)))\n",
    "    estim_depth.append(i)\n",
    "    "
   ]
  },
  {
   "cell_type": "code",
   "execution_count": 28,
   "metadata": {
    "execution": {
     "iopub.execute_input": "2020-11-02T13:11:34.906101Z",
     "iopub.status.busy": "2020-11-02T13:11:34.894225Z",
     "iopub.status.idle": "2020-11-02T13:11:35.083493Z",
     "shell.execute_reply": "2020-11-02T13:11:35.082787Z"
    },
    "papermill": {
     "duration": 0.271233,
     "end_time": "2020-11-02T13:11:35.083638",
     "exception": false,
     "start_time": "2020-11-02T13:11:34.812405",
     "status": "completed"
    },
    "tags": []
   },
   "outputs": [
    {
     "data": {
      "image/png": "[encoded data removed]",
      "text/plain": [
       "<Figure size 432x288 with 1 Axes>"
      ]
     },
     "metadata": {
      "needs_background": "light"
     },
     "output_type": "display_data"
    },
    {
     "name": "stdout",
     "output_type": "stream",
     "text": [
      "5\n"
     ]
    }
   ],
   "source": [
    "plt.figure()\n",
    "plt.title('The test and train accuracy for different number of Trees')\n",
    "plt.plot(range(1,max_d+1),score_tr,color='red',label='Train Accuracy')\n",
    "plt.plot(range(1,max_d+1),score_t,label=' Test Accuracy')\n",
    "plt.legend()\n",
    "plt.show()\n",
    "print(estim_depth[np.argmax(score_t)])"
   ]
  },
  {
   "cell_type": "code",
   "execution_count": 29,
   "metadata": {
    "execution": {
     "iopub.execute_input": "2020-11-02T13:11:35.248628Z",
     "iopub.status.busy": "2020-11-02T13:11:35.243760Z",
     "iopub.status.idle": "2020-11-02T13:11:35.431246Z",
     "shell.execute_reply": "2020-11-02T13:11:35.430531Z"
    },
    "papermill": {
     "duration": 0.272525,
     "end_time": "2020-11-02T13:11:35.431358",
     "exception": false,
     "start_time": "2020-11-02T13:11:35.158833",
     "status": "completed"
    },
    "tags": []
   },
   "outputs": [
    {
     "data": {
      "image/png": "[encoded data removed]",
      "text/plain": [
       "<Figure size 432x288 with 1 Axes>"
      ]
     },
     "metadata": {
      "needs_background": "light"
     },
     "output_type": "display_data"
    },
    {
     "name": "stdout",
     "output_type": "stream",
     "text": [
      "5\n"
     ]
    }
   ],
   "source": [
    "plt.figure()\n",
    "plt.title('The test and train MSE for different number of Trees')\n",
    "plt.plot(range(1,max_d+1),mse_tr,color='red',label='Train MSE')\n",
    "plt.plot(range(1,max_d+1),mse_t,label=' Test MSE')\n",
    "plt.legend()\n",
    "plt.show()\n",
    "print(estim_depth[np.argmin(mse_t)])"
   ]
  },
  {
   "cell_type": "code",
   "execution_count": 30,
   "metadata": {
    "execution": {
     "iopub.execute_input": "2020-11-02T13:11:35.590876Z",
     "iopub.status.busy": "2020-11-02T13:11:35.590159Z",
     "iopub.status.idle": "2020-11-02T13:11:35.595324Z",
     "shell.execute_reply": "2020-11-02T13:11:35.595851Z"
    },
    "papermill": {
     "duration": 0.088486,
     "end_time": "2020-11-02T13:11:35.596003",
     "exception": false,
     "start_time": "2020-11-02T13:11:35.507517",
     "status": "completed"
    },
    "tags": []
   },
   "outputs": [
    {
     "name": "stdout",
     "output_type": "stream",
     "text": [
      "Random forest score - trainnig set: 0.9823657142857143\n",
      "Random forest score - test set: 0.82251\n",
      "MSE:  0.17749\n"
     ]
    }
   ],
   "source": [
    "print(f\"Random forest score - trainnig set: {score_tr[np.argmax(score_t)]}\")\n",
    "print(f\"Random forest score - test set: {score_t[np.argmax(score_t)]}\")\n",
    "print (\"MSE: \", mse_t[np.argmax(score_t)] )\n"
   ]
  },
  {
   "cell_type": "code",
   "execution_count": 31,
   "metadata": {
    "execution": {
     "iopub.execute_input": "2020-11-02T13:11:35.755511Z",
     "iopub.status.busy": "2020-11-02T13:11:35.754768Z",
     "iopub.status.idle": "2020-11-02T13:11:37.701355Z",
     "shell.execute_reply": "2020-11-02T13:11:37.700799Z"
    },
    "papermill": {
     "duration": 2.028297,
     "end_time": "2020-11-02T13:11:37.701478",
     "exception": false,
     "start_time": "2020-11-02T13:11:35.673181",
     "status": "completed"
    },
    "tags": []
   },
   "outputs": [
    {
     "data": {
      "image/png": "[encoded data removed]",
      "text/plain": [
       "<Figure size 432x288 with 2 Axes>"
      ]
     },
     "metadata": {
      "needs_background": "light"
     },
     "output_type": "display_data"
    }
   ],
   "source": [
    "cm = plot_confusion_matrix(random_forest_model ,X_test, y_test,\n",
    "                                 display_labels=['Class 0', 'Class 1'],\n",
    "                                 cmap=plt.cm.Blues,\n",
    "                                 normalize='true')\n",
    "cm.ax_.set_title('Random Forest Confusion Matrix');"
   ]
  },
  {
   "cell_type": "markdown",
   "metadata": {
    "papermill": {
     "duration": 0.077377,
     "end_time": "2020-11-02T13:11:37.855850",
     "exception": false,
     "start_time": "2020-11-02T13:11:37.778473",
     "status": "completed"
    },
    "tags": []
   },
   "source": [
    "## 6.4 Pipeline LG"
   ]
  },
  {
   "cell_type": "code",
   "execution_count": 32,
   "metadata": {
    "execution": {
     "iopub.execute_input": "2020-11-02T13:11:38.027802Z",
     "iopub.status.busy": "2020-11-02T13:11:38.026992Z",
     "iopub.status.idle": "2020-11-02T13:56:38.484024Z",
     "shell.execute_reply": "2020-11-02T13:56:38.484927Z"
    },
    "papermill": {
     "duration": 2700.550005,
     "end_time": "2020-11-02T13:56:38.485194",
     "exception": false,
     "start_time": "2020-11-02T13:11:37.935189",
     "status": "completed"
    },
    "tags": []
   },
   "outputs": [
    {
     "name": "stdout",
     "output_type": "stream",
     "text": [
      "Fitting 3 folds for each of 4 candidates, totalling 12 fits\n"
     ]
    },
    {
     "name": "stderr",
     "output_type": "stream",
     "text": [
      "[Parallel(n_jobs=-1)]: Using backend LokyBackend with 4 concurrent workers.\n",
      "[Parallel(n_jobs=-1)]: Done  12 out of  12 | elapsed: 35.6min finished\n"
     ]
    },
    {
     "name": "stdout",
     "output_type": "stream",
     "text": [
      "Best LG parameter set: {'logreg_reg__C': 1.0, 'logreg_reg__max_iter': 500, 'logreg_reg__penalty': 'l1'}\n",
      "Best LG accuracy: 0.905\n"
     ]
    }
   ],
   "source": [
    "tfidf_vector = TfidfVectorizer(min_df=100,ngram_range=(1, 1),stop_words=stop_words\n",
    "                       )\n",
    "\n",
    "param_grid = [{\n",
    "               'logreg_reg__penalty': ['l1', 'l2'], \n",
    "                \n",
    "               'logreg_reg__max_iter':[500],\n",
    "               'logreg_reg__C': [1.0, 10.0]},\n",
    "\n",
    "             \n",
    "                 ]\n",
    "\n",
    "\n",
    "logreg_tfidf = Pipeline([\n",
    "    ('vc_norm', tfidf_vector),\n",
    "    ('logreg_reg', LogisticRegression(random_state=1, solver='saga'))\n",
    "\n",
    "]\n",
    "                       )\n",
    "\n",
    "rf_tfidf = Pipeline([('vc_norm', tfidf_vector),\n",
    "                     ('rf', RandomForestClassifier(random_state=1))])\n",
    "\n",
    "gs_lr_tfidf = GridSearchCV(logreg_tfidf, param_grid,\n",
    "                           scoring='accuracy',\n",
    "                           cv=3,\n",
    "                           verbose=1,\n",
    "                           n_jobs=-1)\n",
    "\n",
    "# Take long\n",
    "gs_lr_tfidf.fit(X_train_corp, y_train)\n",
    "\n",
    "\n",
    "print('Best LG parameter set: ' + str(gs_lr_tfidf.best_params_))\n",
    "print('Best LG accuracy: %.3f' % gs_lr_tfidf.best_score_)\n",
    "\n",
    "\n",
    "\n",
    "\n"
   ]
  },
  {
   "cell_type": "code",
   "execution_count": null,
   "metadata": {
    "papermill": {
     "duration": 0.081086,
     "end_time": "2020-11-02T13:56:38.646692",
     "exception": false,
     "start_time": "2020-11-02T13:56:38.565606",
     "status": "completed"
    },
    "tags": []
   },
   "outputs": [],
   "source": []
  },
  {
   "cell_type": "code",
   "execution_count": 33,
   "metadata": {
    "execution": {
     "iopub.execute_input": "2020-11-02T13:56:38.820185Z",
     "iopub.status.busy": "2020-11-02T13:56:38.819327Z",
     "iopub.status.idle": "2020-11-02T13:56:40.642996Z",
     "shell.execute_reply": "2020-11-02T13:56:40.643552Z"
    },
    "papermill": {
     "duration": 1.917,
     "end_time": "2020-11-02T13:56:40.643740",
     "exception": false,
     "start_time": "2020-11-02T13:56:38.726740",
     "status": "completed"
    },
    "tags": []
   },
   "outputs": [
    {
     "data": {
      "image/png": "[encoded data removed]",
      "text/plain": [
       "<Figure size 432x288 with 1 Axes>"
      ]
     },
     "metadata": {
      "needs_background": "light"
     },
     "output_type": "display_data"
    }
   ],
   "source": [
    "\n",
    "import sklearn.metrics as metrics\n",
    "fpr, tpr, threshold = metrics.roc_curve(y_test, random_forest_model.predict(X_test))\n",
    "roc_auc = metrics.auc(fpr, tpr)\n",
    "\n",
    "plt.title('Receiver Operating Characteristic Forests')\n",
    "plt.plot(fpr, tpr, 'b', label = 'AUC = %0.2f' % roc_auc)\n",
    "plt.legend(loc = 'lower right')\n",
    "plt.plot([0, 1], [0, 1],'r--')\n",
    "plt.xlim([0, 1])\n",
    "plt.ylim([0, 1])\n",
    "plt.ylabel('True Positive Rate')\n",
    "plt.xlabel('False Positive Rate')\n",
    "plt.show()"
   ]
  },
  {
   "cell_type": "code",
   "execution_count": 34,
   "metadata": {
    "execution": {
     "iopub.execute_input": "2020-11-02T13:56:41.032837Z",
     "iopub.status.busy": "2020-11-02T13:56:40.940987Z",
     "iopub.status.idle": "2020-11-02T13:56:48.221760Z",
     "shell.execute_reply": "2020-11-02T13:56:48.222250Z"
    },
    "papermill": {
     "duration": 7.496733,
     "end_time": "2020-11-02T13:56:48.222407",
     "exception": false,
     "start_time": "2020-11-02T13:56:40.725674",
     "status": "completed"
    },
    "tags": []
   },
   "outputs": [
    {
     "data": {
      "image/png": "[encoded data removed]",
      "text/plain": [
       "<Figure size 432x288 with 1 Axes>"
      ]
     },
     "metadata": {
      "needs_background": "light"
     },
     "output_type": "display_data"
    }
   ],
   "source": [
    "fpr, tpr, threshold = metrics.roc_curve(y_test, XGB_model.predict(X_test))\n",
    "roc_auc = metrics.auc(fpr, tpr)\n",
    "\n",
    "plt.title('Receiver Operating XGBoost')\n",
    "plt.plot(fpr, tpr, 'b', label = 'AUC = %0.2f' % roc_auc)\n",
    "plt.legend(loc = 'lower right')\n",
    "plt.plot([0, 1], [0, 1],'r--')\n",
    "plt.xlim([0, 1])\n",
    "plt.ylim([0, 1])\n",
    "plt.ylabel('True Positive Rate')\n",
    "plt.xlabel('False Positive Rate')\n",
    "plt.show()"
   ]
  },
  {
   "cell_type": "code",
   "execution_count": 35,
   "metadata": {
    "execution": {
     "iopub.execute_input": "2020-11-02T13:56:48.393854Z",
     "iopub.status.busy": "2020-11-02T13:56:48.393196Z",
     "iopub.status.idle": "2020-11-02T13:56:48.876630Z",
     "shell.execute_reply": "2020-11-02T13:56:48.876046Z"
    },
    "papermill": {
     "duration": 0.57339,
     "end_time": "2020-11-02T13:56:48.876764",
     "exception": false,
     "start_time": "2020-11-02T13:56:48.303374",
     "status": "completed"
    },
    "tags": []
   },
   "outputs": [
    {
     "data": {
      "image/png": "[encoded data removed]",
      "text/plain": [
       "<Figure size 432x288 with 1 Axes>"
      ]
     },
     "metadata": {
      "needs_background": "light"
     },
     "output_type": "display_data"
    }
   ],
   "source": [
    "fpr, tpr, threshold = metrics.roc_curve(y_test, logreg.predict(X_test))\n",
    "roc_auc = metrics.auc(fpr, tpr)\n",
    "\n",
    "# method I: plt\n",
    "import matplotlib.pyplot as plt\n",
    "plt.title('Receiver Operating LG')\n",
    "plt.plot(fpr, tpr, 'b', label = 'AUC = %0.2f' % roc_auc)\n",
    "plt.legend(loc = 'lower right')\n",
    "plt.plot([0, 1], [0, 1],'r--')\n",
    "plt.xlim([0, 1])\n",
    "plt.ylim([0, 1])\n",
    "plt.ylabel('True Positive Rate')\n",
    "plt.xlabel('False Positive Rate')\n",
    "plt.show()"
   ]
  },
  {
   "cell_type": "code",
   "execution_count": null,
   "metadata": {
    "papermill": {
     "duration": 0.085392,
     "end_time": "2020-11-02T13:56:49.047317",
     "exception": false,
     "start_time": "2020-11-02T13:56:48.961925",
     "status": "completed"
    },
    "tags": []
   },
   "outputs": [],
   "source": []
  }
 ],
 "metadata": {
  "kernelspec": {
   "display_name": "Python 3",
   "language": "python",
   "name": "python3"
  },
  "language_info": {
   "codemirror_mode": {
    "name": "ipython",
    "version": 3
   },
   "file_extension": ".py",
   "mimetype": "text/x-python",
   "name": "python",
   "nbconvert_exporter": "python",
   "pygments_lexer": "ipython3",
   "version": "3.8.8"
  },
  "papermill": {
   "duration": 9883.711113,
   "end_time": "2020-11-02T13:56:49.252238",
   "environment_variables": {},
   "exception": null,
   "input_path": "__notebook__.ipynb",
   "output_path": "__notebook__.ipynb",
   "parameters": {},
   "start_time": "2020-11-02T11:12:05.541125",
   "version": "2.1.0"
  },
  "widgets": {
   "application/vnd.jupyter.widget-state+json": {
    "state": {
     "01219c4b55ca4769951751faf173bd28": {
      "model_module": "@jupyter-widgets/controls",
      "model_module_version": "1.5.0",
      "model_name": "HBoxModel",
      "state": {
       "_dom_classes": [],
       "_model_module": "@jupyter-widgets/controls",
       "_model_module_version": "1.5.0",
       "_model_name": "HBoxModel",
       "_view_count": null,
       "_view_module": "@jupyter-widgets/controls",
       "_view_module_version": "1.5.0",
       "_view_name": "HBoxView",
       "box_style": "",
       "children": [
        "IPY_MODEL_870a02f6b59a4dc7b0f1ef2b397dc5c2",
        "IPY_MODEL_bd752e813e484a3ab60a8452cb217c27"
       ],
       "layout": "IPY_MODEL_10777d76e5ea4bd8bf8eeca8ff181681"
      }
     },
     "05ec00fad7754ad6925b9b86d4b37c72": {
      "model_module": "@jupyter-widgets/base",
      "model_module_version": "1.2.0",
      "model_name": "LayoutModel",
      "state": {
       "_model_module": "@jupyter-widgets/base",
       "_model_module_version": "1.2.0",
       "_model_name": "LayoutModel",
       "_view_count": null,
       "_view_module": "@jupyter-widgets/base",
       "_view_module_version": "1.2.0",
       "_view_name": "LayoutView",
       "align_content": null,
       "align_items": null,
       "align_self": null,
       "border": null,
       "bottom": null,
       "display": null,
       "flex": null,
       "flex_flow": null,
       "grid_area": null,
       "grid_auto_columns": null,
       "grid_auto_flow": null,
       "grid_auto_rows": null,
       "grid_column": null,
       "grid_gap": null,
       "grid_row": null,
       "grid_template_areas": null,
       "grid_template_columns": null,
       "grid_template_rows": null,
       "height": null,
       "justify_content": null,
       "justify_items": null,
       "left": null,
       "margin": null,
       "max_height": null,
       "max_width": null,
       "min_height": null,
       "min_width": null,
       "object_fit": null,
       "object_position": null,
       "order": null,
       "overflow": null,
       "overflow_x": null,
       "overflow_y": null,
       "padding": null,
       "right": null,
       "top": null,
       "visibility": null,
       "width": null
      }
     },
     "10777d76e5ea4bd8bf8eeca8ff181681": {
      "model_module": "@jupyter-widgets/base",
      "model_module_version": "1.2.0",
      "model_name": "LayoutModel",
      "state": {
       "_model_module": "@jupyter-widgets/base",
       "_model_module_version": "1.2.0",
       "_model_name": "LayoutModel",
       "_view_count": null,
       "_view_module": "@jupyter-widgets/base",
       "_view_module_version": "1.2.0",
       "_view_name": "LayoutView",
       "align_content": null,
       "align_items": null,
       "align_self": null,
       "border": null,
       "bottom": null,
       "display": null,
       "flex": null,
       "flex_flow": null,
       "grid_area": null,
       "grid_auto_columns": null,
       "grid_auto_flow": null,
       "grid_auto_rows": null,
       "grid_column": null,
       "grid_gap": null,
       "grid_row": null,
       "grid_template_areas": null,
       "grid_template_columns": null,
       "grid_template_rows": null,
       "height": null,
       "justify_content": null,
       "justify_items": null,
       "left": null,
       "margin": null,
       "max_height": null,
       "max_width": null,
       "min_height": null,
       "min_width": null,
       "object_fit": null,
       "object_position": null,
       "order": null,
       "overflow": null,
       "overflow_x": null,
       "overflow_y": null,
       "padding": null,
       "right": null,
       "top": null,
       "visibility": null,
       "width": null
      }
     },
     "10d8a18013604189a372dd5ad685c738": {
      "model_module": "@jupyter-widgets/base",
      "model_module_version": "1.2.0",
      "model_name": "LayoutModel",
      "state": {
       "_model_module": "@jupyter-widgets/base",
       "_model_module_version": "1.2.0",
       "_model_name": "LayoutModel",
       "_view_count": null,
       "_view_module": "@jupyter-widgets/base",
       "_view_module_version": "1.2.0",
       "_view_name": "LayoutView",
       "align_content": null,
       "align_items": null,
       "align_self": null,
       "border": null,
       "bottom": null,
       "display": null,
       "flex": null,
       "flex_flow": null,
       "grid_area": null,
       "grid_auto_columns": null,
       "grid_auto_flow": null,
       "grid_auto_rows": null,
       "grid_column": null,
       "grid_gap": null,
       "grid_row": null,
       "grid_template_areas": null,
       "grid_template_columns": null,
       "grid_template_rows": null,
       "height": null,
       "justify_content": null,
       "justify_items": null,
       "left": null,
       "margin": null,
       "max_height": null,
       "max_width": null,
       "min_height": null,
       "min_width": null,
       "object_fit": null,
       "object_position": null,
       "order": null,
       "overflow": null,
       "overflow_x": null,
       "overflow_y": null,
       "padding": null,
       "right": null,
       "top": null,
       "visibility": null,
       "width": null
      }
     },
     "14a2d9cd8046484b841145abecc46967": {
      "model_module": "@jupyter-widgets/controls",
      "model_module_version": "1.5.0",
      "model_name": "DescriptionStyleModel",
      "state": {
       "_model_module": "@jupyter-widgets/controls",
       "_model_module_version": "1.5.0",
       "_model_name": "DescriptionStyleModel",
       "_view_count": null,
       "_view_module": "@jupyter-widgets/base",
       "_view_module_version": "1.2.0",
       "_view_name": "StyleView",
       "description_width": ""
      }
     },
     "2fdf625416f440719937235242fe2542": {
      "model_module": "@jupyter-widgets/controls",
      "model_module_version": "1.5.0",
      "model_name": "ProgressStyleModel",
      "state": {
       "_model_module": "@jupyter-widgets/controls",
       "_model_module_version": "1.5.0",
       "_model_name": "ProgressStyleModel",
       "_view_count": null,
       "_view_module": "@jupyter-widgets/base",
       "_view_module_version": "1.2.0",
       "_view_name": "StyleView",
       "bar_color": null,
       "description_width": "initial"
      }
     },
     "3b5bb65903e940c4a3849cda2228753e": {
      "model_module": "@jupyter-widgets/base",
      "model_module_version": "1.2.0",
      "model_name": "LayoutModel",
      "state": {
       "_model_module": "@jupyter-widgets/base",
       "_model_module_version": "1.2.0",
       "_model_name": "LayoutModel",
       "_view_count": null,
       "_view_module": "@jupyter-widgets/base",
       "_view_module_version": "1.2.0",
       "_view_name": "LayoutView",
       "align_content": null,
       "align_items": null,
       "align_self": null,
       "border": null,
       "bottom": null,
       "display": null,
       "flex": null,
       "flex_flow": null,
       "grid_area": null,
       "grid_auto_columns": null,
       "grid_auto_flow": null,
       "grid_auto_rows": null,
       "grid_column": null,
       "grid_gap": null,
       "grid_row": null,
       "grid_template_areas": null,
       "grid_template_columns": null,
       "grid_template_rows": null,
       "height": null,
       "justify_content": null,
       "justify_items": null,
       "left": null,
       "margin": null,
       "max_height": null,
       "max_width": null,
       "min_height": null,
       "min_width": null,
       "object_fit": null,
       "object_position": null,
       "order": null,
       "overflow": null,
       "overflow_x": null,
       "overflow_y": null,
       "padding": null,
       "right": null,
       "top": null,
       "visibility": null,
       "width": null
      }
     },
     "568b4128d2c64896a424966072e1e660": {
      "model_module": "@jupyter-widgets/base",
      "model_module_version": "1.2.0",
      "model_name": "LayoutModel",
      "state": {
       "_model_module": "@jupyter-widgets/base",
       "_model_module_version": "1.2.0",
       "_model_name": "LayoutModel",
       "_view_count": null,
       "_view_module": "@jupyter-widgets/base",
       "_view_module_version": "1.2.0",
       "_view_name": "LayoutView",
       "align_content": null,
       "align_items": null,
       "align_self": null,
       "border": null,
       "bottom": null,
       "display": null,
       "flex": null,
       "flex_flow": null,
       "grid_area": null,
       "grid_auto_columns": null,
       "grid_auto_flow": null,
       "grid_auto_rows": null,
       "grid_column": null,
       "grid_gap": null,
       "grid_row": null,
       "grid_template_areas": null,
       "grid_template_columns": null,
       "grid_template_rows": null,
       "height": null,
       "justify_content": null,
       "justify_items": null,
       "left": null,
       "margin": null,
       "max_height": null,
       "max_width": null,
       "min_height": null,
       "min_width": null,
       "object_fit": null,
       "object_position": null,
       "order": null,
       "overflow": null,
       "overflow_x": null,
       "overflow_y": null,
       "padding": null,
       "right": null,
       "top": null,
       "visibility": null,
       "width": null
      }
     },
     "5cd9b1a92f8f46199f0fd51bcf399d86": {
      "model_module": "@jupyter-widgets/base",
      "model_module_version": "1.2.0",
      "model_name": "LayoutModel",
      "state": {
       "_model_module": "@jupyter-widgets/base",
       "_model_module_version": "1.2.0",
       "_model_name": "LayoutModel",
       "_view_count": null,
       "_view_module": "@jupyter-widgets/base",
       "_view_module_version": "1.2.0",
       "_view_name": "LayoutView",
       "align_content": null,
       "align_items": null,
       "align_self": null,
       "border": null,
       "bottom": null,
       "display": null,
       "flex": null,
       "flex_flow": null,
       "grid_area": null,
       "grid_auto_columns": null,
       "grid_auto_flow": null,
       "grid_auto_rows": null,
       "grid_column": null,
       "grid_gap": null,
       "grid_row": null,
       "grid_template_areas": null,
       "grid_template_columns": null,
       "grid_template_rows": null,
       "height": null,
       "justify_content": null,
       "justify_items": null,
       "left": null,
       "margin": null,
       "max_height": null,
       "max_width": null,
       "min_height": null,
       "min_width": null,
       "object_fit": null,
       "object_position": null,
       "order": null,
       "overflow": null,
       "overflow_x": null,
       "overflow_y": null,
       "padding": null,
       "right": null,
       "top": null,
       "visibility": null,
       "width": null
      }
     },
     "630c9d24490e42329b3ee42d3b21e514": {
      "model_module": "@jupyter-widgets/controls",
      "model_module_version": "1.5.0",
      "model_name": "HTMLModel",
      "state": {
       "_dom_classes": [],
       "_model_module": "@jupyter-widgets/controls",
       "_model_module_version": "1.5.0",
       "_model_name": "HTMLModel",
       "_view_count": null,
       "_view_module": "@jupyter-widgets/controls",
       "_view_module_version": "1.5.0",
       "_view_name": "HTMLView",
       "description": "",
       "description_tooltip": null,
       "layout": "IPY_MODEL_05ec00fad7754ad6925b9b86d4b37c72",
       "placeholder": "​",
       "style": "IPY_MODEL_a1b66564d2da4a1ebf7a58da23b20606",
       "value": " 1000000/1000000 [01:27&lt;00:00, 11427.44it/s]"
      }
     },
     "850965aabb4a45ee89132020fae4aee1": {
      "model_module": "@jupyter-widgets/controls",
      "model_module_version": "1.5.0",
      "model_name": "HBoxModel",
      "state": {
       "_dom_classes": [],
       "_model_module": "@jupyter-widgets/controls",
       "_model_module_version": "1.5.0",
       "_model_name": "HBoxModel",
       "_view_count": null,
       "_view_module": "@jupyter-widgets/controls",
       "_view_module_version": "1.5.0",
       "_view_name": "HBoxView",
       "box_style": "",
       "children": [
        "IPY_MODEL_ef963efbe07e498387455034414d29b1",
        "IPY_MODEL_630c9d24490e42329b3ee42d3b21e514"
       ],
       "layout": "IPY_MODEL_10d8a18013604189a372dd5ad685c738"
      }
     },
     "870a02f6b59a4dc7b0f1ef2b397dc5c2": {
      "model_module": "@jupyter-widgets/controls",
      "model_module_version": "1.5.0",
      "model_name": "FloatProgressModel",
      "state": {
       "_dom_classes": [],
       "_model_module": "@jupyter-widgets/controls",
       "_model_module_version": "1.5.0",
       "_model_name": "FloatProgressModel",
       "_view_count": null,
       "_view_module": "@jupyter-widgets/controls",
       "_view_module_version": "1.5.0",
       "_view_name": "ProgressView",
       "bar_style": "success",
       "description": "100%",
       "description_tooltip": null,
       "layout": "IPY_MODEL_ee8ccc10d13548ac964cbdc6e536b07a",
       "max": 1000000,
       "min": 0,
       "orientation": "horizontal",
       "style": "IPY_MODEL_f10e406426174631b90d70d609631991",
       "value": 1000000
      }
     },
     "8d76783e40d0402bb7fe64c6d986a9dc": {
      "model_module": "@jupyter-widgets/base",
      "model_module_version": "1.2.0",
      "model_name": "LayoutModel",
      "state": {
       "_model_module": "@jupyter-widgets/base",
       "_model_module_version": "1.2.0",
       "_model_name": "LayoutModel",
       "_view_count": null,
       "_view_module": "@jupyter-widgets/base",
       "_view_module_version": "1.2.0",
       "_view_name": "LayoutView",
       "align_content": null,
       "align_items": null,
       "align_self": null,
       "border": null,
       "bottom": null,
       "display": null,
       "flex": null,
       "flex_flow": null,
       "grid_area": null,
       "grid_auto_columns": null,
       "grid_auto_flow": null,
       "grid_auto_rows": null,
       "grid_column": null,
       "grid_gap": null,
       "grid_row": null,
       "grid_template_areas": null,
       "grid_template_columns": null,
       "grid_template_rows": null,
       "height": null,
       "justify_content": null,
       "justify_items": null,
       "left": null,
       "margin": null,
       "max_height": null,
       "max_width": null,
       "min_height": null,
       "min_width": null,
       "object_fit": null,
       "object_position": null,
       "order": null,
       "overflow": null,
       "overflow_x": null,
       "overflow_y": null,
       "padding": null,
       "right": null,
       "top": null,
       "visibility": null,
       "width": null
      }
     },
     "9666901fb9d6415f902dfdc0729a4f0b": {
      "model_module": "@jupyter-widgets/base",
      "model_module_version": "1.2.0",
      "model_name": "LayoutModel",
      "state": {
       "_model_module": "@jupyter-widgets/base",
       "_model_module_version": "1.2.0",
       "_model_name": "LayoutModel",
       "_view_count": null,
       "_view_module": "@jupyter-widgets/base",
       "_view_module_version": "1.2.0",
       "_view_name": "LayoutView",
       "align_content": null,
       "align_items": null,
       "align_self": null,
       "border": null,
       "bottom": null,
       "display": null,
       "flex": null,
       "flex_flow": null,
       "grid_area": null,
       "grid_auto_columns": null,
       "grid_auto_flow": null,
       "grid_auto_rows": null,
       "grid_column": null,
       "grid_gap": null,
       "grid_row": null,
       "grid_template_areas": null,
       "grid_template_columns": null,
       "grid_template_rows": null,
       "height": null,
       "justify_content": null,
       "justify_items": null,
       "left": null,
       "margin": null,
       "max_height": null,
       "max_width": null,
       "min_height": null,
       "min_width": null,
       "object_fit": null,
       "object_position": null,
       "order": null,
       "overflow": null,
       "overflow_x": null,
       "overflow_y": null,
       "padding": null,
       "right": null,
       "top": null,
       "visibility": null,
       "width": null
      }
     },
     "a1b66564d2da4a1ebf7a58da23b20606": {
      "model_module": "@jupyter-widgets/controls",
      "model_module_version": "1.5.0",
      "model_name": "DescriptionStyleModel",
      "state": {
       "_model_module": "@jupyter-widgets/controls",
       "_model_module_version": "1.5.0",
       "_model_name": "DescriptionStyleModel",
       "_view_count": null,
       "_view_module": "@jupyter-widgets/base",
       "_view_module_version": "1.2.0",
       "_view_name": "StyleView",
       "description_width": ""
      }
     },
     "a6fde2a87b6c41f6bd4aa85fc014a191": {
      "model_module": "@jupyter-widgets/controls",
      "model_module_version": "1.5.0",
      "model_name": "HTMLModel",
      "state": {
       "_dom_classes": [],
       "_model_module": "@jupyter-widgets/controls",
       "_model_module_version": "1.5.0",
       "_model_name": "HTMLModel",
       "_view_count": null,
       "_view_module": "@jupyter-widgets/controls",
       "_view_module_version": "1.5.0",
       "_view_name": "HTMLView",
       "description": "",
       "description_tooltip": null,
       "layout": "IPY_MODEL_9666901fb9d6415f902dfdc0729a4f0b",
       "placeholder": "​",
       "style": "IPY_MODEL_eb00e2191174481681b208bd3072b4c4",
       "value": " 1000000/1000000 [1:11:03&lt;00:00, 234.58it/s]"
      }
     },
     "a7afcaa7ce1b4649a5ad916e5c353029": {
      "model_module": "@jupyter-widgets/controls",
      "model_module_version": "1.5.0",
      "model_name": "HBoxModel",
      "state": {
       "_dom_classes": [],
       "_model_module": "@jupyter-widgets/controls",
       "_model_module_version": "1.5.0",
       "_model_name": "HBoxModel",
       "_view_count": null,
       "_view_module": "@jupyter-widgets/controls",
       "_view_module_version": "1.5.0",
       "_view_name": "HBoxView",
       "box_style": "",
       "children": [
        "IPY_MODEL_d858706ddcc14f1eb4ad9cd3820f8e09",
        "IPY_MODEL_a6fde2a87b6c41f6bd4aa85fc014a191"
       ],
       "layout": "IPY_MODEL_568b4128d2c64896a424966072e1e660"
      }
     },
     "bd752e813e484a3ab60a8452cb217c27": {
      "model_module": "@jupyter-widgets/controls",
      "model_module_version": "1.5.0",
      "model_name": "HTMLModel",
      "state": {
       "_dom_classes": [],
       "_model_module": "@jupyter-widgets/controls",
       "_model_module_version": "1.5.0",
       "_model_name": "HTMLModel",
       "_view_count": null,
       "_view_module": "@jupyter-widgets/controls",
       "_view_module_version": "1.5.0",
       "_view_name": "HTMLView",
       "description": "",
       "description_tooltip": null,
       "layout": "IPY_MODEL_3b5bb65903e940c4a3849cda2228753e",
       "placeholder": "​",
       "style": "IPY_MODEL_14a2d9cd8046484b841145abecc46967",
       "value": " 1000000/1000000 [1:08:27&lt;00:00, 243.47it/s]"
      }
     },
     "d858706ddcc14f1eb4ad9cd3820f8e09": {
      "model_module": "@jupyter-widgets/controls",
      "model_module_version": "1.5.0",
      "model_name": "FloatProgressModel",
      "state": {
       "_dom_classes": [],
       "_model_module": "@jupyter-widgets/controls",
       "_model_module_version": "1.5.0",
       "_model_name": "FloatProgressModel",
       "_view_count": null,
       "_view_module": "@jupyter-widgets/controls",
       "_view_module_version": "1.5.0",
       "_view_name": "ProgressView",
       "bar_style": "success",
       "description": "100%",
       "description_tooltip": null,
       "layout": "IPY_MODEL_5cd9b1a92f8f46199f0fd51bcf399d86",
       "max": 1000000,
       "min": 0,
       "orientation": "horizontal",
       "style": "IPY_MODEL_d919ef5cbc1149bebbcbe795a45c7176",
       "value": 1000000
      }
     },
     "d919ef5cbc1149bebbcbe795a45c7176": {
      "model_module": "@jupyter-widgets/controls",
      "model_module_version": "1.5.0",
      "model_name": "ProgressStyleModel",
      "state": {
       "_model_module": "@jupyter-widgets/controls",
       "_model_module_version": "1.5.0",
       "_model_name": "ProgressStyleModel",
       "_view_count": null,
       "_view_module": "@jupyter-widgets/base",
       "_view_module_version": "1.2.0",
       "_view_name": "StyleView",
       "bar_color": null,
       "description_width": "initial"
      }
     },
     "eb00e2191174481681b208bd3072b4c4": {
      "model_module": "@jupyter-widgets/controls",
      "model_module_version": "1.5.0",
      "model_name": "DescriptionStyleModel",
      "state": {
       "_model_module": "@jupyter-widgets/controls",
       "_model_module_version": "1.5.0",
       "_model_name": "DescriptionStyleModel",
       "_view_count": null,
       "_view_module": "@jupyter-widgets/base",
       "_view_module_version": "1.2.0",
       "_view_name": "StyleView",
       "description_width": ""
      }
     },
     "ee8ccc10d13548ac964cbdc6e536b07a": {
      "model_module": "@jupyter-widgets/base",
      "model_module_version": "1.2.0",
      "model_name": "LayoutModel",
      "state": {
       "_model_module": "@jupyter-widgets/base",
       "_model_module_version": "1.2.0",
       "_model_name": "LayoutModel",
       "_view_count": null,
       "_view_module": "@jupyter-widgets/base",
       "_view_module_version": "1.2.0",
       "_view_name": "LayoutView",
       "align_content": null,
       "align_items": null,
       "align_self": null,
       "border": null,
       "bottom": null,
       "display": null,
       "flex": null,
       "flex_flow": null,
       "grid_area": null,
       "grid_auto_columns": null,
       "grid_auto_flow": null,
       "grid_auto_rows": null,
       "grid_column": null,
       "grid_gap": null,
       "grid_row": null,
       "grid_template_areas": null,
       "grid_template_columns": null,
       "grid_template_rows": null,
       "height": null,
       "justify_content": null,
       "justify_items": null,
       "left": null,
       "margin": null,
       "max_height": null,
       "max_width": null,
       "min_height": null,
       "min_width": null,
       "object_fit": null,
       "object_position": null,
       "order": null,
       "overflow": null,
       "overflow_x": null,
       "overflow_y": null,
       "padding": null,
       "right": null,
       "top": null,
       "visibility": null,
       "width": null
      }
     },
     "ef963efbe07e498387455034414d29b1": {
      "model_module": "@jupyter-widgets/controls",
      "model_module_version": "1.5.0",
      "model_name": "FloatProgressModel",
      "state": {
       "_dom_classes": [],
       "_model_module": "@jupyter-widgets/controls",
       "_model_module_version": "1.5.0",
       "_model_name": "FloatProgressModel",
       "_view_count": null,
       "_view_module": "@jupyter-widgets/controls",
       "_view_module_version": "1.5.0",
       "_view_name": "ProgressView",
       "bar_style": "success",
       "description": "100%",
       "description_tooltip": null,
       "layout": "IPY_MODEL_8d76783e40d0402bb7fe64c6d986a9dc",
       "max": 1000000,
       "min": 0,
       "orientation": "horizontal",
       "style": "IPY_MODEL_2fdf625416f440719937235242fe2542",
       "value": 1000000
      }
     },
     "f10e406426174631b90d70d609631991": {
      "model_module": "@jupyter-widgets/controls",
      "model_module_version": "1.5.0",
      "model_name": "ProgressStyleModel",
      "state": {
       "_model_module": "@jupyter-widgets/controls",
       "_model_module_version": "1.5.0",
       "_model_name": "ProgressStyleModel",
       "_view_count": null,
       "_view_module": "@jupyter-widgets/base",
       "_view_module_version": "1.2.0",
       "_view_name": "StyleView",
       "bar_color": null,
       "description_width": "initial"
      }
     }
    },
    "version_major": 2,
    "version_minor": 0
   }
  }
 },
 "nbformat": 4,
 "nbformat_minor": 4
}
